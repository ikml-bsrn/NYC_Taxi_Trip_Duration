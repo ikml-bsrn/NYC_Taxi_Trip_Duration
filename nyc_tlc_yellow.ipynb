{
 "cells": [
  {
   "cell_type": "markdown",
   "metadata": {},
   "source": [
    "# Loading Data"
   ]
  },
  {
   "cell_type": "code",
   "execution_count": 604,
   "metadata": {},
   "outputs": [
    {
     "name": "stdout",
     "output_type": "stream",
     "text": [
      "Defaulting to user installation because normal site-packages is not writeable\n",
      "Requirement already satisfied: seaborn in /Users/ikmalbasirun/Library/Python/3.9/lib/python/site-packages (0.13.2)\n",
      "Requirement already satisfied: numpy!=1.24.0,>=1.20 in /Users/ikmalbasirun/Library/Python/3.9/lib/python/site-packages (from seaborn) (2.0.2)\n",
      "Requirement already satisfied: pandas>=1.2 in /Users/ikmalbasirun/Library/Python/3.9/lib/python/site-packages (from seaborn) (2.2.3)\n",
      "Requirement already satisfied: matplotlib!=3.6.1,>=3.4 in /Users/ikmalbasirun/Library/Python/3.9/lib/python/site-packages (from seaborn) (3.9.4)\n",
      "Requirement already satisfied: contourpy>=1.0.1 in /Users/ikmalbasirun/Library/Python/3.9/lib/python/site-packages (from matplotlib!=3.6.1,>=3.4->seaborn) (1.3.0)\n",
      "Requirement already satisfied: cycler>=0.10 in /Users/ikmalbasirun/Library/Python/3.9/lib/python/site-packages (from matplotlib!=3.6.1,>=3.4->seaborn) (0.12.1)\n",
      "Requirement already satisfied: fonttools>=4.22.0 in /Users/ikmalbasirun/Library/Python/3.9/lib/python/site-packages (from matplotlib!=3.6.1,>=3.4->seaborn) (4.56.0)\n",
      "Requirement already satisfied: kiwisolver>=1.3.1 in /Users/ikmalbasirun/Library/Python/3.9/lib/python/site-packages (from matplotlib!=3.6.1,>=3.4->seaborn) (1.4.7)\n",
      "Requirement already satisfied: packaging>=20.0 in /Users/ikmalbasirun/Library/Python/3.9/lib/python/site-packages (from matplotlib!=3.6.1,>=3.4->seaborn) (24.2)\n",
      "Requirement already satisfied: pillow>=8 in /Users/ikmalbasirun/Library/Python/3.9/lib/python/site-packages (from matplotlib!=3.6.1,>=3.4->seaborn) (11.1.0)\n",
      "Requirement already satisfied: pyparsing>=2.3.1 in /Users/ikmalbasirun/Library/Python/3.9/lib/python/site-packages (from matplotlib!=3.6.1,>=3.4->seaborn) (3.2.1)\n",
      "Requirement already satisfied: python-dateutil>=2.7 in /Users/ikmalbasirun/Library/Python/3.9/lib/python/site-packages (from matplotlib!=3.6.1,>=3.4->seaborn) (2.9.0.post0)\n",
      "Requirement already satisfied: importlib-resources>=3.2.0 in /Users/ikmalbasirun/Library/Python/3.9/lib/python/site-packages (from matplotlib!=3.6.1,>=3.4->seaborn) (6.5.2)\n",
      "Requirement already satisfied: pytz>=2020.1 in /Users/ikmalbasirun/Library/Python/3.9/lib/python/site-packages (from pandas>=1.2->seaborn) (2025.1)\n",
      "Requirement already satisfied: tzdata>=2022.7 in /Users/ikmalbasirun/Library/Python/3.9/lib/python/site-packages (from pandas>=1.2->seaborn) (2025.1)\n",
      "Requirement already satisfied: zipp>=3.1.0 in /Users/ikmalbasirun/Library/Python/3.9/lib/python/site-packages (from importlib-resources>=3.2.0->matplotlib!=3.6.1,>=3.4->seaborn) (3.21.0)\n",
      "Requirement already satisfied: six>=1.5 in /Library/Developer/CommandLineTools/Library/Frameworks/Python3.framework/Versions/3.9/lib/python3.9/site-packages (from python-dateutil>=2.7->matplotlib!=3.6.1,>=3.4->seaborn) (1.15.0)\n",
      "Note: you may need to restart the kernel to use updated packages.\n",
      "Defaulting to user installation because normal site-packages is not writeable\n",
      "Requirement already satisfied: sklearn in /Users/ikmalbasirun/Library/Python/3.9/lib/python/site-packages (0.0)\n",
      "Requirement already satisfied: scikit-learn in /Users/ikmalbasirun/Library/Python/3.9/lib/python/site-packages (from sklearn) (1.6.1)\n",
      "Requirement already satisfied: numpy>=1.19.5 in /Users/ikmalbasirun/Library/Python/3.9/lib/python/site-packages (from scikit-learn->sklearn) (2.0.2)\n",
      "Requirement already satisfied: scipy>=1.6.0 in /Users/ikmalbasirun/Library/Python/3.9/lib/python/site-packages (from scikit-learn->sklearn) (1.13.1)\n",
      "Requirement already satisfied: joblib>=1.2.0 in /Users/ikmalbasirun/Library/Python/3.9/lib/python/site-packages (from scikit-learn->sklearn) (1.4.2)\n",
      "Requirement already satisfied: threadpoolctl>=3.1.0 in /Users/ikmalbasirun/Library/Python/3.9/lib/python/site-packages (from scikit-learn->sklearn) (3.5.0)\n",
      "Note: you may need to restart the kernel to use updated packages.\n",
      "Defaulting to user installation because normal site-packages is not writeable\n",
      "Requirement already satisfied: tensorflow in /Users/ikmalbasirun/Library/Python/3.9/lib/python/site-packages (2.19.0)\n",
      "Requirement already satisfied: absl-py>=1.0.0 in /Users/ikmalbasirun/Library/Python/3.9/lib/python/site-packages (from tensorflow) (2.2.0)\n",
      "Requirement already satisfied: astunparse>=1.6.0 in /Users/ikmalbasirun/Library/Python/3.9/lib/python/site-packages (from tensorflow) (1.6.3)\n",
      "Requirement already satisfied: flatbuffers>=24.3.25 in /Users/ikmalbasirun/Library/Python/3.9/lib/python/site-packages (from tensorflow) (25.2.10)\n",
      "Requirement already satisfied: gast!=0.5.0,!=0.5.1,!=0.5.2,>=0.2.1 in /Users/ikmalbasirun/Library/Python/3.9/lib/python/site-packages (from tensorflow) (0.6.0)\n",
      "Requirement already satisfied: google-pasta>=0.1.1 in /Users/ikmalbasirun/Library/Python/3.9/lib/python/site-packages (from tensorflow) (0.2.0)\n",
      "Requirement already satisfied: libclang>=13.0.0 in /Users/ikmalbasirun/Library/Python/3.9/lib/python/site-packages (from tensorflow) (18.1.1)\n",
      "Requirement already satisfied: opt-einsum>=2.3.2 in /Users/ikmalbasirun/Library/Python/3.9/lib/python/site-packages (from tensorflow) (3.4.0)\n",
      "Requirement already satisfied: packaging in /Users/ikmalbasirun/Library/Python/3.9/lib/python/site-packages (from tensorflow) (24.2)\n",
      "Requirement already satisfied: protobuf!=4.21.0,!=4.21.1,!=4.21.2,!=4.21.3,!=4.21.4,!=4.21.5,<6.0.0dev,>=3.20.3 in /Users/ikmalbasirun/Library/Python/3.9/lib/python/site-packages (from tensorflow) (5.29.4)\n",
      "Requirement already satisfied: requests<3,>=2.21.0 in /Users/ikmalbasirun/Library/Python/3.9/lib/python/site-packages (from tensorflow) (2.32.3)\n",
      "Requirement already satisfied: setuptools in /Library/Developer/CommandLineTools/Library/Frameworks/Python3.framework/Versions/3.9/lib/python3.9/site-packages (from tensorflow) (58.0.4)\n",
      "Requirement already satisfied: six>=1.12.0 in /Library/Developer/CommandLineTools/Library/Frameworks/Python3.framework/Versions/3.9/lib/python3.9/site-packages (from tensorflow) (1.15.0)\n",
      "Requirement already satisfied: termcolor>=1.1.0 in /Users/ikmalbasirun/Library/Python/3.9/lib/python/site-packages (from tensorflow) (2.5.0)\n",
      "Requirement already satisfied: typing-extensions>=3.6.6 in /Users/ikmalbasirun/Library/Python/3.9/lib/python/site-packages (from tensorflow) (4.12.2)\n",
      "Requirement already satisfied: wrapt>=1.11.0 in /Users/ikmalbasirun/Library/Python/3.9/lib/python/site-packages (from tensorflow) (1.17.2)\n",
      "Requirement already satisfied: grpcio<2.0,>=1.24.3 in /Users/ikmalbasirun/Library/Python/3.9/lib/python/site-packages (from tensorflow) (1.71.0)\n",
      "Requirement already satisfied: tensorboard~=2.19.0 in /Users/ikmalbasirun/Library/Python/3.9/lib/python/site-packages (from tensorflow) (2.19.0)\n",
      "Requirement already satisfied: keras>=3.5.0 in /Users/ikmalbasirun/Library/Python/3.9/lib/python/site-packages (from tensorflow) (3.9.0)\n",
      "Requirement already satisfied: numpy<2.2.0,>=1.26.0 in /Users/ikmalbasirun/Library/Python/3.9/lib/python/site-packages (from tensorflow) (2.0.2)\n",
      "Requirement already satisfied: h5py>=3.11.0 in /Users/ikmalbasirun/Library/Python/3.9/lib/python/site-packages (from tensorflow) (3.13.0)\n",
      "Requirement already satisfied: ml-dtypes<1.0.0,>=0.5.1 in /Users/ikmalbasirun/Library/Python/3.9/lib/python/site-packages (from tensorflow) (0.5.1)\n",
      "Requirement already satisfied: tensorflow-io-gcs-filesystem>=0.23.1 in /Users/ikmalbasirun/Library/Python/3.9/lib/python/site-packages (from tensorflow) (0.37.1)\n",
      "Requirement already satisfied: wheel<1.0,>=0.23.0 in /Library/Developer/CommandLineTools/Library/Frameworks/Python3.framework/Versions/3.9/lib/python3.9/site-packages (from astunparse>=1.6.0->tensorflow) (0.37.0)\n",
      "Requirement already satisfied: rich in /Users/ikmalbasirun/Library/Python/3.9/lib/python/site-packages (from keras>=3.5.0->tensorflow) (13.9.4)\n",
      "Requirement already satisfied: namex in /Users/ikmalbasirun/Library/Python/3.9/lib/python/site-packages (from keras>=3.5.0->tensorflow) (0.0.8)\n",
      "Requirement already satisfied: optree in /Users/ikmalbasirun/Library/Python/3.9/lib/python/site-packages (from keras>=3.5.0->tensorflow) (0.14.1)\n",
      "Requirement already satisfied: charset-normalizer<4,>=2 in /Users/ikmalbasirun/Library/Python/3.9/lib/python/site-packages (from requests<3,>=2.21.0->tensorflow) (3.4.1)\n",
      "Requirement already satisfied: idna<4,>=2.5 in /Users/ikmalbasirun/Library/Python/3.9/lib/python/site-packages (from requests<3,>=2.21.0->tensorflow) (3.10)\n",
      "Requirement already satisfied: urllib3<3,>=1.21.1 in /Users/ikmalbasirun/Library/Python/3.9/lib/python/site-packages (from requests<3,>=2.21.0->tensorflow) (2.3.0)\n",
      "Requirement already satisfied: certifi>=2017.4.17 in /Users/ikmalbasirun/Library/Python/3.9/lib/python/site-packages (from requests<3,>=2.21.0->tensorflow) (2025.1.31)\n",
      "Requirement already satisfied: markdown>=2.6.8 in /Users/ikmalbasirun/Library/Python/3.9/lib/python/site-packages (from tensorboard~=2.19.0->tensorflow) (3.7)\n",
      "Requirement already satisfied: tensorboard-data-server<0.8.0,>=0.7.0 in /Users/ikmalbasirun/Library/Python/3.9/lib/python/site-packages (from tensorboard~=2.19.0->tensorflow) (0.7.2)\n",
      "Requirement already satisfied: werkzeug>=1.0.1 in /Users/ikmalbasirun/Library/Python/3.9/lib/python/site-packages (from tensorboard~=2.19.0->tensorflow) (3.1.3)\n",
      "Requirement already satisfied: importlib-metadata>=4.4 in /Users/ikmalbasirun/Library/Python/3.9/lib/python/site-packages (from markdown>=2.6.8->tensorboard~=2.19.0->tensorflow) (8.6.1)\n",
      "Requirement already satisfied: MarkupSafe>=2.1.1 in /Users/ikmalbasirun/Library/Python/3.9/lib/python/site-packages (from werkzeug>=1.0.1->tensorboard~=2.19.0->tensorflow) (3.0.2)\n",
      "Requirement already satisfied: markdown-it-py>=2.2.0 in /Users/ikmalbasirun/Library/Python/3.9/lib/python/site-packages (from rich->keras>=3.5.0->tensorflow) (3.0.0)\n",
      "Requirement already satisfied: pygments<3.0.0,>=2.13.0 in /Users/ikmalbasirun/Library/Python/3.9/lib/python/site-packages (from rich->keras>=3.5.0->tensorflow) (2.19.1)\n",
      "Requirement already satisfied: zipp>=3.20 in /Users/ikmalbasirun/Library/Python/3.9/lib/python/site-packages (from importlib-metadata>=4.4->markdown>=2.6.8->tensorboard~=2.19.0->tensorflow) (3.21.0)\n",
      "Requirement already satisfied: mdurl~=0.1 in /Users/ikmalbasirun/Library/Python/3.9/lib/python/site-packages (from markdown-it-py>=2.2.0->rich->keras>=3.5.0->tensorflow) (0.1.2)\n",
      "Note: you may need to restart the kernel to use updated packages.\n"
     ]
    }
   ],
   "source": [
    "import numpy as np\n",
    "import pandas as pd\n",
    "\n",
    "%pip install seaborn\n",
    "import seaborn as sns\n",
    "import matplotlib.pyplot as plt\n",
    "\n",
    "%pip install sklearn\n",
    "from sklearn.preprocessing import OneHotEncoder, StandardScaler\n",
    "from sklearn.linear_model import LinearRegression\n",
    "from sklearn.model_selection import train_test_split, cross_val_score, KFold, GridSearchCV, RandomizedSearchCV\n",
    "from sklearn import metrics\n",
    "from sklearn.ensemble import RandomForestRegressor\n",
    "\n",
    "\n",
    "from scipy.stats import randint\n",
    "\n",
    "%pip install tensorflow\n",
    "import tensorflow\n",
    "from tensorflow.keras.models import Sequential\n",
    "from tensorflow.keras.layers import Dense, Dropout\n"
   ]
  },
  {
   "cell_type": "code",
   "execution_count": 605,
   "metadata": {},
   "outputs": [],
   "source": [
    "\n",
    "yellow_taxi_df = pd.read_parquet('yellow_tripdata_2024-12.parquet')"
   ]
  },
  {
   "cell_type": "markdown",
   "metadata": {},
   "source": [
    "# Data Exploration\n",
    "\n",
    "In this section, we will explore the dataset and understand its characteristics and data."
   ]
  },
  {
   "cell_type": "code",
   "execution_count": 546,
   "metadata": {},
   "outputs": [
    {
     "data": {
      "text/html": [
       "<div>\n",
       "<style scoped>\n",
       "    .dataframe tbody tr th:only-of-type {\n",
       "        vertical-align: middle;\n",
       "    }\n",
       "\n",
       "    .dataframe tbody tr th {\n",
       "        vertical-align: top;\n",
       "    }\n",
       "\n",
       "    .dataframe thead th {\n",
       "        text-align: right;\n",
       "    }\n",
       "</style>\n",
       "<table border=\"1\" class=\"dataframe\">\n",
       "  <thead>\n",
       "    <tr style=\"text-align: right;\">\n",
       "      <th></th>\n",
       "      <th>VendorID</th>\n",
       "      <th>tpep_pickup_datetime</th>\n",
       "      <th>tpep_dropoff_datetime</th>\n",
       "      <th>passenger_count</th>\n",
       "      <th>trip_distance</th>\n",
       "      <th>RatecodeID</th>\n",
       "      <th>store_and_fwd_flag</th>\n",
       "      <th>PULocationID</th>\n",
       "      <th>DOLocationID</th>\n",
       "      <th>payment_type</th>\n",
       "      <th>fare_amount</th>\n",
       "      <th>extra</th>\n",
       "      <th>mta_tax</th>\n",
       "      <th>tip_amount</th>\n",
       "      <th>tolls_amount</th>\n",
       "      <th>improvement_surcharge</th>\n",
       "      <th>total_amount</th>\n",
       "      <th>congestion_surcharge</th>\n",
       "      <th>Airport_fee</th>\n",
       "    </tr>\n",
       "  </thead>\n",
       "  <tbody>\n",
       "    <tr>\n",
       "      <th>0</th>\n",
       "      <td>2</td>\n",
       "      <td>2024-12-01 00:12:27</td>\n",
       "      <td>2024-12-01 00:31:12</td>\n",
       "      <td>1.0000</td>\n",
       "      <td>9.7600</td>\n",
       "      <td>1.0000</td>\n",
       "      <td>N</td>\n",
       "      <td>138</td>\n",
       "      <td>33</td>\n",
       "      <td>1</td>\n",
       "      <td>38.0000</td>\n",
       "      <td>6.0000</td>\n",
       "      <td>0.5000</td>\n",
       "      <td>4.7200</td>\n",
       "      <td>0.0000</td>\n",
       "      <td>1.0000</td>\n",
       "      <td>51.9700</td>\n",
       "      <td>0.0000</td>\n",
       "      <td>1.7500</td>\n",
       "    </tr>\n",
       "    <tr>\n",
       "      <th>1</th>\n",
       "      <td>2</td>\n",
       "      <td>2024-11-30 23:56:04</td>\n",
       "      <td>2024-12-01 00:28:15</td>\n",
       "      <td>1.0000</td>\n",
       "      <td>7.6200</td>\n",
       "      <td>1.0000</td>\n",
       "      <td>N</td>\n",
       "      <td>158</td>\n",
       "      <td>42</td>\n",
       "      <td>1</td>\n",
       "      <td>37.3000</td>\n",
       "      <td>1.0000</td>\n",
       "      <td>0.5000</td>\n",
       "      <td>8.4600</td>\n",
       "      <td>0.0000</td>\n",
       "      <td>1.0000</td>\n",
       "      <td>50.7600</td>\n",
       "      <td>2.5000</td>\n",
       "      <td>0.0000</td>\n",
       "    </tr>\n",
       "    <tr>\n",
       "      <th>2</th>\n",
       "      <td>2</td>\n",
       "      <td>2024-12-01 00:50:35</td>\n",
       "      <td>2024-12-01 01:24:46</td>\n",
       "      <td>4.0000</td>\n",
       "      <td>20.0700</td>\n",
       "      <td>2.0000</td>\n",
       "      <td>N</td>\n",
       "      <td>132</td>\n",
       "      <td>236</td>\n",
       "      <td>2</td>\n",
       "      <td>70.0000</td>\n",
       "      <td>0.0000</td>\n",
       "      <td>0.5000</td>\n",
       "      <td>0.0000</td>\n",
       "      <td>6.9400</td>\n",
       "      <td>1.0000</td>\n",
       "      <td>82.6900</td>\n",
       "      <td>2.5000</td>\n",
       "      <td>1.7500</td>\n",
       "    </tr>\n",
       "    <tr>\n",
       "      <th>3</th>\n",
       "      <td>2</td>\n",
       "      <td>2024-12-01 00:18:16</td>\n",
       "      <td>2024-12-01 00:33:16</td>\n",
       "      <td>3.0000</td>\n",
       "      <td>2.3400</td>\n",
       "      <td>1.0000</td>\n",
       "      <td>N</td>\n",
       "      <td>142</td>\n",
       "      <td>186</td>\n",
       "      <td>1</td>\n",
       "      <td>15.6000</td>\n",
       "      <td>1.0000</td>\n",
       "      <td>0.5000</td>\n",
       "      <td>4.1200</td>\n",
       "      <td>0.0000</td>\n",
       "      <td>1.0000</td>\n",
       "      <td>24.7200</td>\n",
       "      <td>2.5000</td>\n",
       "      <td>0.0000</td>\n",
       "    </tr>\n",
       "    <tr>\n",
       "      <th>4</th>\n",
       "      <td>2</td>\n",
       "      <td>2024-12-01 00:56:13</td>\n",
       "      <td>2024-12-01 01:18:25</td>\n",
       "      <td>1.0000</td>\n",
       "      <td>5.0500</td>\n",
       "      <td>1.0000</td>\n",
       "      <td>N</td>\n",
       "      <td>107</td>\n",
       "      <td>80</td>\n",
       "      <td>1</td>\n",
       "      <td>26.8000</td>\n",
       "      <td>1.0000</td>\n",
       "      <td>0.5000</td>\n",
       "      <td>5.0000</td>\n",
       "      <td>0.0000</td>\n",
       "      <td>1.0000</td>\n",
       "      <td>36.8000</td>\n",
       "      <td>2.5000</td>\n",
       "      <td>0.0000</td>\n",
       "    </tr>\n",
       "  </tbody>\n",
       "</table>\n",
       "</div>"
      ],
      "text/plain": [
       "   VendorID tpep_pickup_datetime tpep_dropoff_datetime  passenger_count  \\\n",
       "0         2  2024-12-01 00:12:27   2024-12-01 00:31:12           1.0000   \n",
       "1         2  2024-11-30 23:56:04   2024-12-01 00:28:15           1.0000   \n",
       "2         2  2024-12-01 00:50:35   2024-12-01 01:24:46           4.0000   \n",
       "3         2  2024-12-01 00:18:16   2024-12-01 00:33:16           3.0000   \n",
       "4         2  2024-12-01 00:56:13   2024-12-01 01:18:25           1.0000   \n",
       "\n",
       "   trip_distance  RatecodeID store_and_fwd_flag  PULocationID  DOLocationID  \\\n",
       "0         9.7600      1.0000                  N           138            33   \n",
       "1         7.6200      1.0000                  N           158            42   \n",
       "2        20.0700      2.0000                  N           132           236   \n",
       "3         2.3400      1.0000                  N           142           186   \n",
       "4         5.0500      1.0000                  N           107            80   \n",
       "\n",
       "   payment_type  fare_amount  extra  mta_tax  tip_amount  tolls_amount  \\\n",
       "0             1      38.0000 6.0000   0.5000      4.7200        0.0000   \n",
       "1             1      37.3000 1.0000   0.5000      8.4600        0.0000   \n",
       "2             2      70.0000 0.0000   0.5000      0.0000        6.9400   \n",
       "3             1      15.6000 1.0000   0.5000      4.1200        0.0000   \n",
       "4             1      26.8000 1.0000   0.5000      5.0000        0.0000   \n",
       "\n",
       "   improvement_surcharge  total_amount  congestion_surcharge  Airport_fee  \n",
       "0                 1.0000       51.9700                0.0000       1.7500  \n",
       "1                 1.0000       50.7600                2.5000       0.0000  \n",
       "2                 1.0000       82.6900                2.5000       1.7500  \n",
       "3                 1.0000       24.7200                2.5000       0.0000  \n",
       "4                 1.0000       36.8000                2.5000       0.0000  "
      ]
     },
     "execution_count": 546,
     "metadata": {},
     "output_type": "execute_result"
    }
   ],
   "source": [
    "yellow_taxi_df.head()"
   ]
  },
  {
   "cell_type": "code",
   "execution_count": 547,
   "metadata": {},
   "outputs": [
    {
     "data": {
      "text/html": [
       "<div>\n",
       "<style scoped>\n",
       "    .dataframe tbody tr th:only-of-type {\n",
       "        vertical-align: middle;\n",
       "    }\n",
       "\n",
       "    .dataframe tbody tr th {\n",
       "        vertical-align: top;\n",
       "    }\n",
       "\n",
       "    .dataframe thead th {\n",
       "        text-align: right;\n",
       "    }\n",
       "</style>\n",
       "<table border=\"1\" class=\"dataframe\">\n",
       "  <thead>\n",
       "    <tr style=\"text-align: right;\">\n",
       "      <th></th>\n",
       "      <th>VendorID</th>\n",
       "      <th>tpep_pickup_datetime</th>\n",
       "      <th>tpep_dropoff_datetime</th>\n",
       "      <th>passenger_count</th>\n",
       "      <th>trip_distance</th>\n",
       "      <th>RatecodeID</th>\n",
       "      <th>store_and_fwd_flag</th>\n",
       "      <th>PULocationID</th>\n",
       "      <th>DOLocationID</th>\n",
       "      <th>payment_type</th>\n",
       "      <th>fare_amount</th>\n",
       "      <th>extra</th>\n",
       "      <th>mta_tax</th>\n",
       "      <th>tip_amount</th>\n",
       "      <th>tolls_amount</th>\n",
       "      <th>improvement_surcharge</th>\n",
       "      <th>total_amount</th>\n",
       "      <th>congestion_surcharge</th>\n",
       "      <th>Airport_fee</th>\n",
       "    </tr>\n",
       "  </thead>\n",
       "  <tbody>\n",
       "    <tr>\n",
       "      <th>3668366</th>\n",
       "      <td>2</td>\n",
       "      <td>2024-12-31 23:32:00</td>\n",
       "      <td>2024-12-31 23:56:00</td>\n",
       "      <td>NaN</td>\n",
       "      <td>10.7100</td>\n",
       "      <td>NaN</td>\n",
       "      <td>None</td>\n",
       "      <td>16</td>\n",
       "      <td>7</td>\n",
       "      <td>0</td>\n",
       "      <td>-4.1300</td>\n",
       "      <td>0.0000</td>\n",
       "      <td>0.5000</td>\n",
       "      <td>0.0000</td>\n",
       "      <td>0.0000</td>\n",
       "      <td>1.0000</td>\n",
       "      <td>-2.6300</td>\n",
       "      <td>NaN</td>\n",
       "      <td>NaN</td>\n",
       "    </tr>\n",
       "    <tr>\n",
       "      <th>3668367</th>\n",
       "      <td>2</td>\n",
       "      <td>2024-12-31 23:05:00</td>\n",
       "      <td>2024-12-31 23:18:00</td>\n",
       "      <td>NaN</td>\n",
       "      <td>4.5600</td>\n",
       "      <td>NaN</td>\n",
       "      <td>None</td>\n",
       "      <td>252</td>\n",
       "      <td>16</td>\n",
       "      <td>0</td>\n",
       "      <td>-1.6800</td>\n",
       "      <td>0.0000</td>\n",
       "      <td>0.5000</td>\n",
       "      <td>0.0000</td>\n",
       "      <td>0.0000</td>\n",
       "      <td>1.0000</td>\n",
       "      <td>-0.1800</td>\n",
       "      <td>NaN</td>\n",
       "      <td>NaN</td>\n",
       "    </tr>\n",
       "    <tr>\n",
       "      <th>3668368</th>\n",
       "      <td>2</td>\n",
       "      <td>2024-12-31 23:03:16</td>\n",
       "      <td>2024-12-31 23:28:35</td>\n",
       "      <td>NaN</td>\n",
       "      <td>3.9400</td>\n",
       "      <td>NaN</td>\n",
       "      <td>None</td>\n",
       "      <td>181</td>\n",
       "      <td>255</td>\n",
       "      <td>0</td>\n",
       "      <td>4.4600</td>\n",
       "      <td>0.0000</td>\n",
       "      <td>0.5000</td>\n",
       "      <td>5.1900</td>\n",
       "      <td>0.0000</td>\n",
       "      <td>1.0000</td>\n",
       "      <td>11.1500</td>\n",
       "      <td>NaN</td>\n",
       "      <td>NaN</td>\n",
       "    </tr>\n",
       "    <tr>\n",
       "      <th>3668369</th>\n",
       "      <td>1</td>\n",
       "      <td>2024-12-31 23:15:33</td>\n",
       "      <td>2024-12-31 23:36:29</td>\n",
       "      <td>NaN</td>\n",
       "      <td>4.2000</td>\n",
       "      <td>NaN</td>\n",
       "      <td>None</td>\n",
       "      <td>165</td>\n",
       "      <td>61</td>\n",
       "      <td>0</td>\n",
       "      <td>27.0700</td>\n",
       "      <td>0.0000</td>\n",
       "      <td>0.5000</td>\n",
       "      <td>0.0000</td>\n",
       "      <td>0.0000</td>\n",
       "      <td>1.0000</td>\n",
       "      <td>28.5700</td>\n",
       "      <td>NaN</td>\n",
       "      <td>NaN</td>\n",
       "    </tr>\n",
       "    <tr>\n",
       "      <th>3668370</th>\n",
       "      <td>2</td>\n",
       "      <td>2024-12-31 23:04:36</td>\n",
       "      <td>2024-12-31 23:33:34</td>\n",
       "      <td>NaN</td>\n",
       "      <td>5.7600</td>\n",
       "      <td>NaN</td>\n",
       "      <td>None</td>\n",
       "      <td>225</td>\n",
       "      <td>114</td>\n",
       "      <td>0</td>\n",
       "      <td>2.1700</td>\n",
       "      <td>0.0000</td>\n",
       "      <td>0.5000</td>\n",
       "      <td>0.0000</td>\n",
       "      <td>0.0000</td>\n",
       "      <td>1.0000</td>\n",
       "      <td>6.1700</td>\n",
       "      <td>NaN</td>\n",
       "      <td>NaN</td>\n",
       "    </tr>\n",
       "  </tbody>\n",
       "</table>\n",
       "</div>"
      ],
      "text/plain": [
       "         VendorID tpep_pickup_datetime tpep_dropoff_datetime  passenger_count  \\\n",
       "3668366         2  2024-12-31 23:32:00   2024-12-31 23:56:00              NaN   \n",
       "3668367         2  2024-12-31 23:05:00   2024-12-31 23:18:00              NaN   \n",
       "3668368         2  2024-12-31 23:03:16   2024-12-31 23:28:35              NaN   \n",
       "3668369         1  2024-12-31 23:15:33   2024-12-31 23:36:29              NaN   \n",
       "3668370         2  2024-12-31 23:04:36   2024-12-31 23:33:34              NaN   \n",
       "\n",
       "         trip_distance  RatecodeID store_and_fwd_flag  PULocationID  \\\n",
       "3668366        10.7100         NaN               None            16   \n",
       "3668367         4.5600         NaN               None           252   \n",
       "3668368         3.9400         NaN               None           181   \n",
       "3668369         4.2000         NaN               None           165   \n",
       "3668370         5.7600         NaN               None           225   \n",
       "\n",
       "         DOLocationID  payment_type  fare_amount  extra  mta_tax  tip_amount  \\\n",
       "3668366             7             0      -4.1300 0.0000   0.5000      0.0000   \n",
       "3668367            16             0      -1.6800 0.0000   0.5000      0.0000   \n",
       "3668368           255             0       4.4600 0.0000   0.5000      5.1900   \n",
       "3668369            61             0      27.0700 0.0000   0.5000      0.0000   \n",
       "3668370           114             0       2.1700 0.0000   0.5000      0.0000   \n",
       "\n",
       "         tolls_amount  improvement_surcharge  total_amount  \\\n",
       "3668366        0.0000                 1.0000       -2.6300   \n",
       "3668367        0.0000                 1.0000       -0.1800   \n",
       "3668368        0.0000                 1.0000       11.1500   \n",
       "3668369        0.0000                 1.0000       28.5700   \n",
       "3668370        0.0000                 1.0000        6.1700   \n",
       "\n",
       "         congestion_surcharge  Airport_fee  \n",
       "3668366                   NaN          NaN  \n",
       "3668367                   NaN          NaN  \n",
       "3668368                   NaN          NaN  \n",
       "3668369                   NaN          NaN  \n",
       "3668370                   NaN          NaN  "
      ]
     },
     "execution_count": 547,
     "metadata": {},
     "output_type": "execute_result"
    }
   ],
   "source": [
    "yellow_taxi_df.tail()"
   ]
  },
  {
   "cell_type": "code",
   "execution_count": 607,
   "metadata": {},
   "outputs": [
    {
     "data": {
      "text/html": [
       "<div>\n",
       "<style scoped>\n",
       "    .dataframe tbody tr th:only-of-type {\n",
       "        vertical-align: middle;\n",
       "    }\n",
       "\n",
       "    .dataframe tbody tr th {\n",
       "        vertical-align: top;\n",
       "    }\n",
       "\n",
       "    .dataframe thead th {\n",
       "        text-align: right;\n",
       "    }\n",
       "</style>\n",
       "<table border=\"1\" class=\"dataframe\">\n",
       "  <thead>\n",
       "    <tr style=\"text-align: right;\">\n",
       "      <th></th>\n",
       "      <th>VendorID</th>\n",
       "      <th>tpep_pickup_datetime</th>\n",
       "      <th>tpep_dropoff_datetime</th>\n",
       "      <th>passenger_count</th>\n",
       "      <th>trip_distance</th>\n",
       "      <th>RatecodeID</th>\n",
       "      <th>PULocationID</th>\n",
       "      <th>DOLocationID</th>\n",
       "      <th>payment_type</th>\n",
       "      <th>fare_amount</th>\n",
       "      <th>extra</th>\n",
       "      <th>mta_tax</th>\n",
       "      <th>tip_amount</th>\n",
       "      <th>tolls_amount</th>\n",
       "      <th>improvement_surcharge</th>\n",
       "      <th>total_amount</th>\n",
       "      <th>congestion_surcharge</th>\n",
       "      <th>Airport_fee</th>\n",
       "    </tr>\n",
       "  </thead>\n",
       "  <tbody>\n",
       "    <tr>\n",
       "      <th>count</th>\n",
       "      <td>3668371.0000</td>\n",
       "      <td>3668371</td>\n",
       "      <td>3668371</td>\n",
       "      <td>3342080.0000</td>\n",
       "      <td>3668371.0000</td>\n",
       "      <td>3342080.0000</td>\n",
       "      <td>3668371.0000</td>\n",
       "      <td>3668371.0000</td>\n",
       "      <td>3668371.0000</td>\n",
       "      <td>3668371.0000</td>\n",
       "      <td>3668371.0000</td>\n",
       "      <td>3668371.0000</td>\n",
       "      <td>3668371.0000</td>\n",
       "      <td>3668371.0000</td>\n",
       "      <td>3668371.0000</td>\n",
       "      <td>3668371.0000</td>\n",
       "      <td>3342080.0000</td>\n",
       "      <td>3342080.0000</td>\n",
       "    </tr>\n",
       "    <tr>\n",
       "      <th>mean</th>\n",
       "      <td>1.7747</td>\n",
       "      <td>2024-12-15 07:08:54.224627</td>\n",
       "      <td>2024-12-15 07:27:35.844428</td>\n",
       "      <td>1.3624</td>\n",
       "      <td>5.0878</td>\n",
       "      <td>2.3283</td>\n",
       "      <td>164.8840</td>\n",
       "      <td>163.7911</td>\n",
       "      <td>1.1335</td>\n",
       "      <td>19.6613</td>\n",
       "      <td>1.3559</td>\n",
       "      <td>0.4746</td>\n",
       "      <td>3.4595</td>\n",
       "      <td>0.5570</td>\n",
       "      <td>0.9516</td>\n",
       "      <td>28.3204</td>\n",
       "      <td>2.2214</td>\n",
       "      <td>0.1282</td>\n",
       "    </tr>\n",
       "    <tr>\n",
       "      <th>min</th>\n",
       "      <td>1.0000</td>\n",
       "      <td>2008-12-31 23:03:59</td>\n",
       "      <td>2009-01-01 00:30:36</td>\n",
       "      <td>0.0000</td>\n",
       "      <td>0.0000</td>\n",
       "      <td>1.0000</td>\n",
       "      <td>1.0000</td>\n",
       "      <td>1.0000</td>\n",
       "      <td>0.0000</td>\n",
       "      <td>-975.0000</td>\n",
       "      <td>-9.2500</td>\n",
       "      <td>-0.5000</td>\n",
       "      <td>-80.0000</td>\n",
       "      <td>-70.3800</td>\n",
       "      <td>-1.0000</td>\n",
       "      <td>-951.0000</td>\n",
       "      <td>-2.5000</td>\n",
       "      <td>-1.7500</td>\n",
       "    </tr>\n",
       "    <tr>\n",
       "      <th>25%</th>\n",
       "      <td>2.0000</td>\n",
       "      <td>2024-12-08 00:30:19</td>\n",
       "      <td>2024-12-08 00:46:27.500000</td>\n",
       "      <td>1.0000</td>\n",
       "      <td>0.9700</td>\n",
       "      <td>1.0000</td>\n",
       "      <td>132.0000</td>\n",
       "      <td>113.0000</td>\n",
       "      <td>1.0000</td>\n",
       "      <td>9.3000</td>\n",
       "      <td>0.0000</td>\n",
       "      <td>0.5000</td>\n",
       "      <td>0.0000</td>\n",
       "      <td>0.0000</td>\n",
       "      <td>1.0000</td>\n",
       "      <td>15.9600</td>\n",
       "      <td>2.5000</td>\n",
       "      <td>0.0000</td>\n",
       "    </tr>\n",
       "    <tr>\n",
       "      <th>50%</th>\n",
       "      <td>2.0000</td>\n",
       "      <td>2024-12-14 16:33:04</td>\n",
       "      <td>2024-12-14 16:54:20</td>\n",
       "      <td>1.0000</td>\n",
       "      <td>1.6800</td>\n",
       "      <td>1.0000</td>\n",
       "      <td>162.0000</td>\n",
       "      <td>162.0000</td>\n",
       "      <td>1.0000</td>\n",
       "      <td>14.2000</td>\n",
       "      <td>1.0000</td>\n",
       "      <td>0.5000</td>\n",
       "      <td>2.7200</td>\n",
       "      <td>0.0000</td>\n",
       "      <td>1.0000</td>\n",
       "      <td>21.6600</td>\n",
       "      <td>2.5000</td>\n",
       "      <td>0.0000</td>\n",
       "    </tr>\n",
       "    <tr>\n",
       "      <th>75%</th>\n",
       "      <td>2.0000</td>\n",
       "      <td>2024-12-21 13:15:27</td>\n",
       "      <td>2024-12-21 13:31:43</td>\n",
       "      <td>1.0000</td>\n",
       "      <td>3.2500</td>\n",
       "      <td>1.0000</td>\n",
       "      <td>234.0000</td>\n",
       "      <td>234.0000</td>\n",
       "      <td>1.0000</td>\n",
       "      <td>23.9200</td>\n",
       "      <td>2.5000</td>\n",
       "      <td>0.5000</td>\n",
       "      <td>4.4800</td>\n",
       "      <td>0.0000</td>\n",
       "      <td>1.0000</td>\n",
       "      <td>32.1000</td>\n",
       "      <td>2.5000</td>\n",
       "      <td>0.0000</td>\n",
       "    </tr>\n",
       "    <tr>\n",
       "      <th>max</th>\n",
       "      <td>7.0000</td>\n",
       "      <td>2025-03-23 20:42:06</td>\n",
       "      <td>2025-03-23 22:52:56</td>\n",
       "      <td>9.0000</td>\n",
       "      <td>328827.6300</td>\n",
       "      <td>99.0000</td>\n",
       "      <td>265.0000</td>\n",
       "      <td>265.0000</td>\n",
       "      <td>4.0000</td>\n",
       "      <td>3033.1000</td>\n",
       "      <td>14.2500</td>\n",
       "      <td>10.5000</td>\n",
       "      <td>471.0000</td>\n",
       "      <td>120.1500</td>\n",
       "      <td>1.0000</td>\n",
       "      <td>3037.1000</td>\n",
       "      <td>2.5000</td>\n",
       "      <td>1.7500</td>\n",
       "    </tr>\n",
       "    <tr>\n",
       "      <th>std</th>\n",
       "      <td>0.4227</td>\n",
       "      <td>NaN</td>\n",
       "      <td>NaN</td>\n",
       "      <td>0.8233</td>\n",
       "      <td>472.8321</td>\n",
       "      <td>10.9320</td>\n",
       "      <td>64.3414</td>\n",
       "      <td>69.5844</td>\n",
       "      <td>0.6746</td>\n",
       "      <td>19.8189</td>\n",
       "      <td>1.7995</td>\n",
       "      <td>0.1453</td>\n",
       "      <td>4.1806</td>\n",
       "      <td>2.2475</td>\n",
       "      <td>0.2893</td>\n",
       "      <td>24.6453</td>\n",
       "      <td>0.9137</td>\n",
       "      <td>0.4759</td>\n",
       "    </tr>\n",
       "  </tbody>\n",
       "</table>\n",
       "</div>"
      ],
      "text/plain": [
       "          VendorID        tpep_pickup_datetime       tpep_dropoff_datetime  \\\n",
       "count 3668371.0000                     3668371                     3668371   \n",
       "mean        1.7747  2024-12-15 07:08:54.224627  2024-12-15 07:27:35.844428   \n",
       "min         1.0000         2008-12-31 23:03:59         2009-01-01 00:30:36   \n",
       "25%         2.0000         2024-12-08 00:30:19  2024-12-08 00:46:27.500000   \n",
       "50%         2.0000         2024-12-14 16:33:04         2024-12-14 16:54:20   \n",
       "75%         2.0000         2024-12-21 13:15:27         2024-12-21 13:31:43   \n",
       "max         7.0000         2025-03-23 20:42:06         2025-03-23 22:52:56   \n",
       "std         0.4227                         NaN                         NaN   \n",
       "\n",
       "       passenger_count  trip_distance   RatecodeID  PULocationID  \\\n",
       "count     3342080.0000   3668371.0000 3342080.0000  3668371.0000   \n",
       "mean            1.3624         5.0878       2.3283      164.8840   \n",
       "min             0.0000         0.0000       1.0000        1.0000   \n",
       "25%             1.0000         0.9700       1.0000      132.0000   \n",
       "50%             1.0000         1.6800       1.0000      162.0000   \n",
       "75%             1.0000         3.2500       1.0000      234.0000   \n",
       "max             9.0000    328827.6300      99.0000      265.0000   \n",
       "std             0.8233       472.8321      10.9320       64.3414   \n",
       "\n",
       "       DOLocationID  payment_type  fare_amount        extra      mta_tax  \\\n",
       "count  3668371.0000  3668371.0000 3668371.0000 3668371.0000 3668371.0000   \n",
       "mean       163.7911        1.1335      19.6613       1.3559       0.4746   \n",
       "min          1.0000        0.0000    -975.0000      -9.2500      -0.5000   \n",
       "25%        113.0000        1.0000       9.3000       0.0000       0.5000   \n",
       "50%        162.0000        1.0000      14.2000       1.0000       0.5000   \n",
       "75%        234.0000        1.0000      23.9200       2.5000       0.5000   \n",
       "max        265.0000        4.0000    3033.1000      14.2500      10.5000   \n",
       "std         69.5844        0.6746      19.8189       1.7995       0.1453   \n",
       "\n",
       "        tip_amount  tolls_amount  improvement_surcharge  total_amount  \\\n",
       "count 3668371.0000  3668371.0000           3668371.0000  3668371.0000   \n",
       "mean        3.4595        0.5570                 0.9516       28.3204   \n",
       "min       -80.0000      -70.3800                -1.0000     -951.0000   \n",
       "25%         0.0000        0.0000                 1.0000       15.9600   \n",
       "50%         2.7200        0.0000                 1.0000       21.6600   \n",
       "75%         4.4800        0.0000                 1.0000       32.1000   \n",
       "max       471.0000      120.1500                 1.0000     3037.1000   \n",
       "std         4.1806        2.2475                 0.2893       24.6453   \n",
       "\n",
       "       congestion_surcharge  Airport_fee  \n",
       "count          3342080.0000 3342080.0000  \n",
       "mean                 2.2214       0.1282  \n",
       "min                 -2.5000      -1.7500  \n",
       "25%                  2.5000       0.0000  \n",
       "50%                  2.5000       0.0000  \n",
       "75%                  2.5000       0.0000  \n",
       "max                  2.5000       1.7500  \n",
       "std                  0.9137       0.4759  "
      ]
     },
     "execution_count": 607,
     "metadata": {},
     "output_type": "execute_result"
    }
   ],
   "source": [
    "yellow_taxi_df.describe()"
   ]
  },
  {
   "cell_type": "code",
   "execution_count": 548,
   "metadata": {},
   "outputs": [
    {
     "name": "stdout",
     "output_type": "stream",
     "text": [
      "<class 'pandas.core.frame.DataFrame'>\n",
      "RangeIndex: 3668371 entries, 0 to 3668370\n",
      "Data columns (total 19 columns):\n",
      " #   Column                 Dtype         \n",
      "---  ------                 -----         \n",
      " 0   VendorID               int32         \n",
      " 1   tpep_pickup_datetime   datetime64[us]\n",
      " 2   tpep_dropoff_datetime  datetime64[us]\n",
      " 3   passenger_count        float64       \n",
      " 4   trip_distance          float64       \n",
      " 5   RatecodeID             float64       \n",
      " 6   store_and_fwd_flag     object        \n",
      " 7   PULocationID           int32         \n",
      " 8   DOLocationID           int32         \n",
      " 9   payment_type           int64         \n",
      " 10  fare_amount            float64       \n",
      " 11  extra                  float64       \n",
      " 12  mta_tax                float64       \n",
      " 13  tip_amount             float64       \n",
      " 14  tolls_amount           float64       \n",
      " 15  improvement_surcharge  float64       \n",
      " 16  total_amount           float64       \n",
      " 17  congestion_surcharge   float64       \n",
      " 18  Airport_fee            float64       \n",
      "dtypes: datetime64[us](2), float64(12), int32(3), int64(1), object(1)\n",
      "memory usage: 489.8+ MB\n"
     ]
    }
   ],
   "source": [
    "yellow_taxi_df.info()"
   ]
  },
  {
   "cell_type": "code",
   "execution_count": 549,
   "metadata": {},
   "outputs": [
    {
     "name": "stdout",
     "output_type": "stream",
     "text": [
      "Index(['VendorID', 'tpep_pickup_datetime', 'tpep_dropoff_datetime',\n",
      "       'passenger_count', 'trip_distance', 'RatecodeID', 'store_and_fwd_flag',\n",
      "       'PULocationID', 'DOLocationID', 'payment_type', 'fare_amount', 'extra',\n",
      "       'mta_tax', 'tip_amount', 'tolls_amount', 'improvement_surcharge',\n",
      "       'total_amount', 'congestion_surcharge', 'Airport_fee'],\n",
      "      dtype='object')\n"
     ]
    }
   ],
   "source": [
    "print(yellow_taxi_df.columns)"
   ]
  },
  {
   "cell_type": "markdown",
   "metadata": {},
   "source": [
    "# Handling Data"
   ]
  },
  {
   "cell_type": "markdown",
   "metadata": {},
   "source": [
    "### Sampling Data (for this project)\n",
    "\n",
    "Since we only have limited API calls for OpenWeather, we will limit the dataset to only 2000 rows."
   ]
  },
  {
   "cell_type": "code",
   "execution_count": null,
   "metadata": {},
   "outputs": [],
   "source": [
    "yellow_taxi_df.sample(2000)"
   ]
  },
  {
   "cell_type": "code",
   "execution_count": 550,
   "metadata": {},
   "outputs": [
    {
     "data": {
      "text/html": [
       "<div>\n",
       "<style scoped>\n",
       "    .dataframe tbody tr th:only-of-type {\n",
       "        vertical-align: middle;\n",
       "    }\n",
       "\n",
       "    .dataframe tbody tr th {\n",
       "        vertical-align: top;\n",
       "    }\n",
       "\n",
       "    .dataframe thead th {\n",
       "        text-align: right;\n",
       "    }\n",
       "</style>\n",
       "<table border=\"1\" class=\"dataframe\">\n",
       "  <thead>\n",
       "    <tr style=\"text-align: right;\">\n",
       "      <th></th>\n",
       "      <th>VendorID</th>\n",
       "      <th>tpep_pickup_datetime</th>\n",
       "      <th>tpep_dropoff_datetime</th>\n",
       "      <th>passenger_count</th>\n",
       "      <th>trip_distance</th>\n",
       "      <th>RatecodeID</th>\n",
       "      <th>PULocationID</th>\n",
       "      <th>DOLocationID</th>\n",
       "      <th>payment_type</th>\n",
       "      <th>fare_amount</th>\n",
       "      <th>extra</th>\n",
       "      <th>mta_tax</th>\n",
       "      <th>tip_amount</th>\n",
       "      <th>tolls_amount</th>\n",
       "      <th>improvement_surcharge</th>\n",
       "      <th>total_amount</th>\n",
       "      <th>congestion_surcharge</th>\n",
       "      <th>Airport_fee</th>\n",
       "    </tr>\n",
       "  </thead>\n",
       "  <tbody>\n",
       "    <tr>\n",
       "      <th>count</th>\n",
       "      <td>3668371.00</td>\n",
       "      <td>3668371</td>\n",
       "      <td>3668371</td>\n",
       "      <td>3342080.00</td>\n",
       "      <td>3668371.00</td>\n",
       "      <td>3342080.00</td>\n",
       "      <td>3668371.00</td>\n",
       "      <td>3668371.00</td>\n",
       "      <td>3668371.00</td>\n",
       "      <td>3668371.00</td>\n",
       "      <td>3668371.00</td>\n",
       "      <td>3668371.00</td>\n",
       "      <td>3668371.00</td>\n",
       "      <td>3668371.00</td>\n",
       "      <td>3668371.00</td>\n",
       "      <td>3668371.00</td>\n",
       "      <td>3342080.00</td>\n",
       "      <td>3342080.00</td>\n",
       "    </tr>\n",
       "    <tr>\n",
       "      <th>mean</th>\n",
       "      <td>1.77</td>\n",
       "      <td>2024-12-15 07:08:54.224627</td>\n",
       "      <td>2024-12-15 07:27:35.844428</td>\n",
       "      <td>1.36</td>\n",
       "      <td>5.09</td>\n",
       "      <td>2.33</td>\n",
       "      <td>164.88</td>\n",
       "      <td>163.79</td>\n",
       "      <td>1.13</td>\n",
       "      <td>19.66</td>\n",
       "      <td>1.36</td>\n",
       "      <td>0.47</td>\n",
       "      <td>3.46</td>\n",
       "      <td>0.56</td>\n",
       "      <td>0.95</td>\n",
       "      <td>28.32</td>\n",
       "      <td>2.22</td>\n",
       "      <td>0.13</td>\n",
       "    </tr>\n",
       "    <tr>\n",
       "      <th>min</th>\n",
       "      <td>1.00</td>\n",
       "      <td>2008-12-31 23:03:59</td>\n",
       "      <td>2009-01-01 00:30:36</td>\n",
       "      <td>0.00</td>\n",
       "      <td>0.00</td>\n",
       "      <td>1.00</td>\n",
       "      <td>1.00</td>\n",
       "      <td>1.00</td>\n",
       "      <td>0.00</td>\n",
       "      <td>-975.00</td>\n",
       "      <td>-9.25</td>\n",
       "      <td>-0.50</td>\n",
       "      <td>-80.00</td>\n",
       "      <td>-70.38</td>\n",
       "      <td>-1.00</td>\n",
       "      <td>-951.00</td>\n",
       "      <td>-2.50</td>\n",
       "      <td>-1.75</td>\n",
       "    </tr>\n",
       "    <tr>\n",
       "      <th>25%</th>\n",
       "      <td>2.00</td>\n",
       "      <td>2024-12-08 00:30:19</td>\n",
       "      <td>2024-12-08 00:46:27.500000</td>\n",
       "      <td>1.00</td>\n",
       "      <td>0.97</td>\n",
       "      <td>1.00</td>\n",
       "      <td>132.00</td>\n",
       "      <td>113.00</td>\n",
       "      <td>1.00</td>\n",
       "      <td>9.30</td>\n",
       "      <td>0.00</td>\n",
       "      <td>0.50</td>\n",
       "      <td>0.00</td>\n",
       "      <td>0.00</td>\n",
       "      <td>1.00</td>\n",
       "      <td>15.96</td>\n",
       "      <td>2.50</td>\n",
       "      <td>0.00</td>\n",
       "    </tr>\n",
       "    <tr>\n",
       "      <th>50%</th>\n",
       "      <td>2.00</td>\n",
       "      <td>2024-12-14 16:33:04</td>\n",
       "      <td>2024-12-14 16:54:20</td>\n",
       "      <td>1.00</td>\n",
       "      <td>1.68</td>\n",
       "      <td>1.00</td>\n",
       "      <td>162.00</td>\n",
       "      <td>162.00</td>\n",
       "      <td>1.00</td>\n",
       "      <td>14.20</td>\n",
       "      <td>1.00</td>\n",
       "      <td>0.50</td>\n",
       "      <td>2.72</td>\n",
       "      <td>0.00</td>\n",
       "      <td>1.00</td>\n",
       "      <td>21.66</td>\n",
       "      <td>2.50</td>\n",
       "      <td>0.00</td>\n",
       "    </tr>\n",
       "    <tr>\n",
       "      <th>75%</th>\n",
       "      <td>2.00</td>\n",
       "      <td>2024-12-21 13:15:27</td>\n",
       "      <td>2024-12-21 13:31:43</td>\n",
       "      <td>1.00</td>\n",
       "      <td>3.25</td>\n",
       "      <td>1.00</td>\n",
       "      <td>234.00</td>\n",
       "      <td>234.00</td>\n",
       "      <td>1.00</td>\n",
       "      <td>23.92</td>\n",
       "      <td>2.50</td>\n",
       "      <td>0.50</td>\n",
       "      <td>4.48</td>\n",
       "      <td>0.00</td>\n",
       "      <td>1.00</td>\n",
       "      <td>32.10</td>\n",
       "      <td>2.50</td>\n",
       "      <td>0.00</td>\n",
       "    </tr>\n",
       "    <tr>\n",
       "      <th>max</th>\n",
       "      <td>7.00</td>\n",
       "      <td>2025-03-23 20:42:06</td>\n",
       "      <td>2025-03-23 22:52:56</td>\n",
       "      <td>9.00</td>\n",
       "      <td>328827.63</td>\n",
       "      <td>99.00</td>\n",
       "      <td>265.00</td>\n",
       "      <td>265.00</td>\n",
       "      <td>4.00</td>\n",
       "      <td>3033.10</td>\n",
       "      <td>14.25</td>\n",
       "      <td>10.50</td>\n",
       "      <td>471.00</td>\n",
       "      <td>120.15</td>\n",
       "      <td>1.00</td>\n",
       "      <td>3037.10</td>\n",
       "      <td>2.50</td>\n",
       "      <td>1.75</td>\n",
       "    </tr>\n",
       "    <tr>\n",
       "      <th>std</th>\n",
       "      <td>0.42</td>\n",
       "      <td>NaN</td>\n",
       "      <td>NaN</td>\n",
       "      <td>0.82</td>\n",
       "      <td>472.83</td>\n",
       "      <td>10.93</td>\n",
       "      <td>64.34</td>\n",
       "      <td>69.58</td>\n",
       "      <td>0.67</td>\n",
       "      <td>19.82</td>\n",
       "      <td>1.80</td>\n",
       "      <td>0.15</td>\n",
       "      <td>4.18</td>\n",
       "      <td>2.25</td>\n",
       "      <td>0.29</td>\n",
       "      <td>24.65</td>\n",
       "      <td>0.91</td>\n",
       "      <td>0.48</td>\n",
       "    </tr>\n",
       "  </tbody>\n",
       "</table>\n",
       "</div>"
      ],
      "text/plain": [
       "        VendorID        tpep_pickup_datetime       tpep_dropoff_datetime  \\\n",
       "count 3668371.00                     3668371                     3668371   \n",
       "mean        1.77  2024-12-15 07:08:54.224627  2024-12-15 07:27:35.844428   \n",
       "min         1.00         2008-12-31 23:03:59         2009-01-01 00:30:36   \n",
       "25%         2.00         2024-12-08 00:30:19  2024-12-08 00:46:27.500000   \n",
       "50%         2.00         2024-12-14 16:33:04         2024-12-14 16:54:20   \n",
       "75%         2.00         2024-12-21 13:15:27         2024-12-21 13:31:43   \n",
       "max         7.00         2025-03-23 20:42:06         2025-03-23 22:52:56   \n",
       "std         0.42                         NaN                         NaN   \n",
       "\n",
       "       passenger_count  trip_distance  RatecodeID  PULocationID  DOLocationID  \\\n",
       "count       3342080.00     3668371.00  3342080.00    3668371.00    3668371.00   \n",
       "mean              1.36           5.09        2.33        164.88        163.79   \n",
       "min               0.00           0.00        1.00          1.00          1.00   \n",
       "25%               1.00           0.97        1.00        132.00        113.00   \n",
       "50%               1.00           1.68        1.00        162.00        162.00   \n",
       "75%               1.00           3.25        1.00        234.00        234.00   \n",
       "max               9.00      328827.63       99.00        265.00        265.00   \n",
       "std               0.82         472.83       10.93         64.34         69.58   \n",
       "\n",
       "       payment_type  fare_amount      extra    mta_tax  tip_amount  \\\n",
       "count    3668371.00   3668371.00 3668371.00 3668371.00  3668371.00   \n",
       "mean           1.13        19.66       1.36       0.47        3.46   \n",
       "min            0.00      -975.00      -9.25      -0.50      -80.00   \n",
       "25%            1.00         9.30       0.00       0.50        0.00   \n",
       "50%            1.00        14.20       1.00       0.50        2.72   \n",
       "75%            1.00        23.92       2.50       0.50        4.48   \n",
       "max            4.00      3033.10      14.25      10.50      471.00   \n",
       "std            0.67        19.82       1.80       0.15        4.18   \n",
       "\n",
       "       tolls_amount  improvement_surcharge  total_amount  \\\n",
       "count    3668371.00             3668371.00    3668371.00   \n",
       "mean           0.56                   0.95         28.32   \n",
       "min          -70.38                  -1.00       -951.00   \n",
       "25%            0.00                   1.00         15.96   \n",
       "50%            0.00                   1.00         21.66   \n",
       "75%            0.00                   1.00         32.10   \n",
       "max          120.15                   1.00       3037.10   \n",
       "std            2.25                   0.29         24.65   \n",
       "\n",
       "       congestion_surcharge  Airport_fee  \n",
       "count            3342080.00   3342080.00  \n",
       "mean                   2.22         0.13  \n",
       "min                   -2.50        -1.75  \n",
       "25%                    2.50         0.00  \n",
       "50%                    2.50         0.00  \n",
       "75%                    2.50         0.00  \n",
       "max                    2.50         1.75  \n",
       "std                    0.91         0.48  "
      ]
     },
     "execution_count": 550,
     "metadata": {},
     "output_type": "execute_result"
    }
   ],
   "source": [
    "# supress scientific notation by setting float_format\n",
    "pd.options.display.float_format = '{:.2f}'.format\n",
    "\n",
    "yellow_taxi_df.describe()"
   ]
  },
  {
   "cell_type": "markdown",
   "metadata": {},
   "source": [
    "There are several key points we can observe and understand from the table above:\n",
    "- The data spans from the year 2002 to 2024.\n",
    "- The maximum number of passenger in a yellow cab is only 5 passengers (usually 4), yet the maximum of passenger_count shown is 9.\n",
    "- The maximum trip distance in this dataset is 398,609 miles, which is illogical for a taxi trip.\n",
    "- The minimum fare amount is -$1458, which indicates the existence of voided/refunded transactions in this dataset. This can be observed in other variables including 'extra','mta_tax','tip_amount' and other related financial data as well.\n",
    "\n",
    "Some of these key points will be handled Outliers section. But firstly, we will start by removing columns that are irrelevant to the project."
   ]
  },
  {
   "cell_type": "markdown",
   "metadata": {},
   "source": [
    "### Removing Columns\n",
    "\n",
    "The following list is the columns that will be removed:\n",
    "- RatecodeID: Mostly redundant unless you're distinguishing airport rides.\n",
    "- Payment Type: Not relevant for trip duration.\n",
    "- Tolls Amount: More related to fare prediction than duration.\n",
    "- Mta_tax: More related to fare prediction than duration.\n",
    "- Tip_amount: A feature which contains information that wouldn’t be available at prediction time.\n",
    "- Total_amount: A feature which contains information that wouldn’t be available at prediction time.\n",
    "- Fare_amount: A feature which contains information that wouldn’t be available at prediction time.\n",
    "- Passenger_count: Not relevant for trip duration.\n",
    "- Airport_fee: Not relevant for trip duration.\n",
    "- Store_and_fwd_flag: Not relevant for trip duration.\n",
    "\n",
    "These columns does not show relevance to the target variable (Trip duration)."
   ]
  },
  {
   "cell_type": "code",
   "execution_count": 551,
   "metadata": {},
   "outputs": [
    {
     "name": "stdout",
     "output_type": "stream",
     "text": [
      "VendorID has been dropped.\n",
      "RatecodeID has been dropped.\n",
      "store_and_fwd_flag has been dropped.\n",
      "payment_type has been dropped.\n",
      "mta_tax has been dropped.\n",
      "fare_amount has been dropped.\n",
      "Airport_fee has been dropped.\n",
      "passenger_count has been dropped.\n",
      "tip_amount has been dropped.\n",
      "tolls_amount has been dropped.\n",
      "improvement_surcharge has been dropped.\n",
      "total_amount has been dropped.\n"
     ]
    }
   ],
   "source": [
    "irrelevant_cols = [\n",
    "    'VendorID','RatecodeID','store_and_fwd_flag',\n",
    "    'payment_type','mta_tax','fare_amount','Airport_fee','passenger_count',\n",
    "    'tip_amount','tolls_amount','improvement_surcharge','total_amount'\n",
    "]\n",
    "\n",
    "for column in irrelevant_cols:\n",
    "   yellow_taxi_df.drop(column, axis=1, inplace=True)\n",
    "   print(f'{column} has been dropped.')"
   ]
  },
  {
   "cell_type": "code",
   "execution_count": 552,
   "metadata": {},
   "outputs": [
    {
     "name": "stdout",
     "output_type": "stream",
     "text": [
      "<class 'pandas.core.frame.DataFrame'>\n",
      "RangeIndex: 3668371 entries, 0 to 3668370\n",
      "Data columns (total 7 columns):\n",
      " #   Column                 Dtype         \n",
      "---  ------                 -----         \n",
      " 0   tpep_pickup_datetime   datetime64[us]\n",
      " 1   tpep_dropoff_datetime  datetime64[us]\n",
      " 2   trip_distance          float64       \n",
      " 3   PULocationID           int32         \n",
      " 4   DOLocationID           int32         \n",
      " 5   extra                  float64       \n",
      " 6   congestion_surcharge   float64       \n",
      "dtypes: datetime64[us](2), float64(3), int32(2)\n",
      "memory usage: 167.9 MB\n"
     ]
    }
   ],
   "source": [
    "yellow_taxi_df.info()"
   ]
  },
  {
   "cell_type": "markdown",
   "metadata": {},
   "source": [
    "### Handling Missing Data"
   ]
  },
  {
   "cell_type": "markdown",
   "metadata": {},
   "source": [
    "Checking NaN values in all attributes"
   ]
  },
  {
   "cell_type": "code",
   "execution_count": 553,
   "metadata": {},
   "outputs": [
    {
     "name": "stdout",
     "output_type": "stream",
     "text": [
      "tpep_pickup_datetime    0.00\n",
      "tpep_dropoff_datetime   0.00\n",
      "trip_distance           0.00\n",
      "PULocationID            0.00\n",
      "DOLocationID            0.00\n",
      "extra                   0.00\n",
      "congestion_surcharge    8.89\n",
      "dtype: float64\n"
     ]
    }
   ],
   "source": [
    "percent_missing = yellow_taxi_df.isnull().sum() / len(yellow_taxi_df) * 100\n",
    "print(percent_missing)"
   ]
  },
  {
   "cell_type": "markdown",
   "metadata": {},
   "source": [
    "The percentage of missing values in 'congestion_surcharge' is 8.89%. This is a slightly significant amount of missing values (>5%), thus we must handle these missing data carefully.\n",
    "\n",
    "Thus, we will first look at the distribution of this feature."
   ]
  },
  {
   "cell_type": "code",
   "execution_count": 554,
   "metadata": {},
   "outputs": [
    {
     "data": {
      "image/png": "[encoded data removed]",
      "text/plain": [
       "<Figure size 640x480 with 1 Axes>"
      ]
     },
     "metadata": {},
     "output_type": "display_data"
    }
   ],
   "source": [
    "sns.countplot(x=yellow_taxi_df['congestion_surcharge'])\n",
    "plt.xlabel(\"Congestion Surcharge\")\n",
    "plt.ylabel(\"Frequency\")\n",
    "plt.show()"
   ]
  },
  {
   "cell_type": "markdown",
   "metadata": {},
   "source": [
    "The figure above shows that most trips will apply congestion surcharge of $2.50. Thus, we will use **mode** to impute the missing data as well.\n",
    "\n",
    "- Notice how there is a negative value too, in this feature. But we will handle this in the Dealing with Outliers section!"
   ]
  },
  {
   "cell_type": "code",
   "execution_count": 555,
   "metadata": {},
   "outputs": [
    {
     "name": "stdout",
     "output_type": "stream",
     "text": [
      "326291\n"
     ]
    }
   ],
   "source": [
    "yellow_taxi_df.fillna({'congestion_surcharge':yellow_taxi_df['congestion_surcharge'].mode()}, inplace=True)\n",
    "\n",
    "print(yellow_taxi_df['congestion_surcharge'].isnull().sum())"
   ]
  },
  {
   "cell_type": "markdown",
   "metadata": {},
   "source": [
    "### Checking Duplicates\n",
    "\n",
    "It is a crucial step to check for duplicates as this will have a major consequence on the model performance, depending on the amount of duplicates in the dataset."
   ]
  },
  {
   "cell_type": "code",
   "execution_count": 556,
   "metadata": {},
   "outputs": [
    {
     "name": "stdout",
     "output_type": "stream",
     "text": [
      "Total number of duplicate rows: 4784\n",
      "Percentage of duplicate rows in dataset:0.13041210935317066%\n"
     ]
    },
    {
     "data": {
      "text/html": [
       "<div>\n",
       "<style scoped>\n",
       "    .dataframe tbody tr th:only-of-type {\n",
       "        vertical-align: middle;\n",
       "    }\n",
       "\n",
       "    .dataframe tbody tr th {\n",
       "        vertical-align: top;\n",
       "    }\n",
       "\n",
       "    .dataframe thead th {\n",
       "        text-align: right;\n",
       "    }\n",
       "</style>\n",
       "<table border=\"1\" class=\"dataframe\">\n",
       "  <thead>\n",
       "    <tr style=\"text-align: right;\">\n",
       "      <th></th>\n",
       "      <th>tpep_pickup_datetime</th>\n",
       "      <th>tpep_dropoff_datetime</th>\n",
       "      <th>trip_distance</th>\n",
       "      <th>PULocationID</th>\n",
       "      <th>DOLocationID</th>\n",
       "      <th>extra</th>\n",
       "      <th>congestion_surcharge</th>\n",
       "    </tr>\n",
       "  </thead>\n",
       "  <tbody>\n",
       "    <tr>\n",
       "      <th>2156</th>\n",
       "      <td>2024-12-01 00:07:47</td>\n",
       "      <td>2024-12-01 00:14:25</td>\n",
       "      <td>3.82</td>\n",
       "      <td>132</td>\n",
       "      <td>10</td>\n",
       "      <td>0.00</td>\n",
       "      <td>0.00</td>\n",
       "    </tr>\n",
       "    <tr>\n",
       "      <th>3221</th>\n",
       "      <td>2024-12-01 00:36:05</td>\n",
       "      <td>2024-12-01 00:36:10</td>\n",
       "      <td>0.01</td>\n",
       "      <td>132</td>\n",
       "      <td>132</td>\n",
       "      <td>0.00</td>\n",
       "      <td>0.00</td>\n",
       "    </tr>\n",
       "    <tr>\n",
       "      <th>3268</th>\n",
       "      <td>2024-12-01 00:11:44</td>\n",
       "      <td>2024-12-01 00:33:53</td>\n",
       "      <td>13.09</td>\n",
       "      <td>28</td>\n",
       "      <td>41</td>\n",
       "      <td>0.00</td>\n",
       "      <td>0.00</td>\n",
       "    </tr>\n",
       "    <tr>\n",
       "      <th>3972</th>\n",
       "      <td>2024-12-01 01:00:54</td>\n",
       "      <td>2024-12-01 01:20:17</td>\n",
       "      <td>7.86</td>\n",
       "      <td>246</td>\n",
       "      <td>265</td>\n",
       "      <td>0.00</td>\n",
       "      <td>0.00</td>\n",
       "    </tr>\n",
       "    <tr>\n",
       "      <th>5399</th>\n",
       "      <td>2024-12-01 01:41:49</td>\n",
       "      <td>2024-12-01 01:41:58</td>\n",
       "      <td>0.00</td>\n",
       "      <td>146</td>\n",
       "      <td>146</td>\n",
       "      <td>0.00</td>\n",
       "      <td>0.00</td>\n",
       "    </tr>\n",
       "    <tr>\n",
       "      <th>...</th>\n",
       "      <td>...</td>\n",
       "      <td>...</td>\n",
       "      <td>...</td>\n",
       "      <td>...</td>\n",
       "      <td>...</td>\n",
       "      <td>...</td>\n",
       "      <td>...</td>\n",
       "    </tr>\n",
       "    <tr>\n",
       "      <th>3333427</th>\n",
       "      <td>2024-12-31 21:31:23</td>\n",
       "      <td>2024-12-31 21:53:16</td>\n",
       "      <td>6.54</td>\n",
       "      <td>211</td>\n",
       "      <td>265</td>\n",
       "      <td>0.00</td>\n",
       "      <td>0.00</td>\n",
       "    </tr>\n",
       "    <tr>\n",
       "      <th>3337999</th>\n",
       "      <td>2024-12-31 22:56:29</td>\n",
       "      <td>2024-12-31 23:06:18</td>\n",
       "      <td>3.79</td>\n",
       "      <td>132</td>\n",
       "      <td>10</td>\n",
       "      <td>0.00</td>\n",
       "      <td>0.00</td>\n",
       "    </tr>\n",
       "    <tr>\n",
       "      <th>3338385</th>\n",
       "      <td>2024-12-31 22:31:32</td>\n",
       "      <td>2024-12-31 23:42:38</td>\n",
       "      <td>42.34</td>\n",
       "      <td>4</td>\n",
       "      <td>265</td>\n",
       "      <td>0.00</td>\n",
       "      <td>0.00</td>\n",
       "    </tr>\n",
       "    <tr>\n",
       "      <th>3341144</th>\n",
       "      <td>2024-12-31 23:43:33</td>\n",
       "      <td>2024-12-31 23:44:58</td>\n",
       "      <td>0.26</td>\n",
       "      <td>116</td>\n",
       "      <td>116</td>\n",
       "      <td>0.00</td>\n",
       "      <td>0.00</td>\n",
       "    </tr>\n",
       "    <tr>\n",
       "      <th>3341771</th>\n",
       "      <td>2024-12-31 23:08:01</td>\n",
       "      <td>2024-12-31 23:37:11</td>\n",
       "      <td>20.77</td>\n",
       "      <td>132</td>\n",
       "      <td>243</td>\n",
       "      <td>0.00</td>\n",
       "      <td>0.00</td>\n",
       "    </tr>\n",
       "  </tbody>\n",
       "</table>\n",
       "<p>4784 rows × 7 columns</p>\n",
       "</div>"
      ],
      "text/plain": [
       "        tpep_pickup_datetime tpep_dropoff_datetime  trip_distance  \\\n",
       "2156     2024-12-01 00:07:47   2024-12-01 00:14:25           3.82   \n",
       "3221     2024-12-01 00:36:05   2024-12-01 00:36:10           0.01   \n",
       "3268     2024-12-01 00:11:44   2024-12-01 00:33:53          13.09   \n",
       "3972     2024-12-01 01:00:54   2024-12-01 01:20:17           7.86   \n",
       "5399     2024-12-01 01:41:49   2024-12-01 01:41:58           0.00   \n",
       "...                      ...                   ...            ...   \n",
       "3333427  2024-12-31 21:31:23   2024-12-31 21:53:16           6.54   \n",
       "3337999  2024-12-31 22:56:29   2024-12-31 23:06:18           3.79   \n",
       "3338385  2024-12-31 22:31:32   2024-12-31 23:42:38          42.34   \n",
       "3341144  2024-12-31 23:43:33   2024-12-31 23:44:58           0.26   \n",
       "3341771  2024-12-31 23:08:01   2024-12-31 23:37:11          20.77   \n",
       "\n",
       "         PULocationID  DOLocationID  extra  congestion_surcharge  \n",
       "2156              132            10   0.00                  0.00  \n",
       "3221              132           132   0.00                  0.00  \n",
       "3268               28            41   0.00                  0.00  \n",
       "3972              246           265   0.00                  0.00  \n",
       "5399              146           146   0.00                  0.00  \n",
       "...               ...           ...    ...                   ...  \n",
       "3333427           211           265   0.00                  0.00  \n",
       "3337999           132            10   0.00                  0.00  \n",
       "3338385             4           265   0.00                  0.00  \n",
       "3341144           116           116   0.00                  0.00  \n",
       "3341771           132           243   0.00                  0.00  \n",
       "\n",
       "[4784 rows x 7 columns]"
      ]
     },
     "execution_count": 556,
     "metadata": {},
     "output_type": "execute_result"
    }
   ],
   "source": [
    "# Check for duplicate rows\n",
    "duplicates = yellow_taxi_df.duplicated()\n",
    "\n",
    "# count total number of duplicates\n",
    "num_of_duplicates = duplicates.sum()\n",
    "print(f'Total number of duplicate rows: {num_of_duplicates}')\n",
    "print(f'Percentage of duplicate rows in dataset:{num_of_duplicates / len(yellow_taxi_df) * 100}%')\n",
    "\n",
    "yellow_taxi_df[duplicates]"
   ]
  },
  {
   "cell_type": "markdown",
   "metadata": {},
   "source": [
    "From above, there are 4,833 rows of which are duplicates. This is about 0.133% of the whole dataset. As it is not a significant amount, these duplicates must be eliminated to properly clean the data."
   ]
  },
  {
   "cell_type": "code",
   "execution_count": 557,
   "metadata": {},
   "outputs": [],
   "source": [
    "yellow_taxi_df.drop_duplicates(inplace=True)"
   ]
  },
  {
   "cell_type": "code",
   "execution_count": 558,
   "metadata": {},
   "outputs": [
    {
     "name": "stdout",
     "output_type": "stream",
     "text": [
      "Total number of duplicate rows now: 0\n"
     ]
    }
   ],
   "source": [
    "# Check again for duplicate rows\n",
    "duplicates = yellow_taxi_df.duplicated()\n",
    "num_of_duplicates = duplicates.sum()\n",
    "print(f'Total number of duplicate rows now: {num_of_duplicates}')"
   ]
  },
  {
   "cell_type": "markdown",
   "metadata": {},
   "source": [
    "### Outliers\n",
    "\n",
    "#### Trip Distance"
   ]
  },
  {
   "cell_type": "code",
   "execution_count": 559,
   "metadata": {},
   "outputs": [
    {
     "data": {
      "text/plain": [
       "<Axes: ylabel='trip_distance'>"
      ]
     },
     "execution_count": 559,
     "metadata": {},
     "output_type": "execute_result"
    },
    {
     "data": {
      "image/png": "[encoded data removed]",
      "text/plain": [
       "<Figure size 640x480 with 1 Axes>"
      ]
     },
     "metadata": {},
     "output_type": "display_data"
    }
   ],
   "source": [
    "sns.boxplot(yellow_taxi_df, y='trip_distance')"
   ]
  },
  {
   "cell_type": "markdown",
   "metadata": {},
   "source": [
    "Since distance can have rare long trips, thus making it skewed, we will use the IQR method to cap the outliers.\n",
    "\n",
    "(UPDATE: It has been identified that **capping the outliers was not a good approach** as it introduces high frequency of datapoints near the outlier bound which may decrease accuracy of the model. Thus outliers will be removed instead.)"
   ]
  },
  {
   "cell_type": "code",
   "execution_count": 560,
   "metadata": {},
   "outputs": [],
   "source": [
    "# Calculate IQR\n",
    "Q1 = yellow_taxi_df['trip_distance'].quantile(0.25)  # 25th percentile\n",
    "Q3 = yellow_taxi_df['trip_distance'].quantile(0.75)  # 75th percentile\n",
    "IQR = Q3 - Q1  # Interquartile range\n",
    "\n",
    "# Define outlier bounds\n",
    "lower_bound = Q1 - 1.5 * IQR\n",
    "upper_bound = Q3 + 1.5 * IQR\n",
    "\n",
    "# Remove outliers crossing the bounds\n",
    "yellow_taxi_df = yellow_taxi_df.loc[\n",
    "    (yellow_taxi_df['trip_distance'] <= upper_bound) &\n",
    "    (yellow_taxi_df['trip_distance'] >= lower_bound)\n",
    "]"
   ]
  },
  {
   "cell_type": "code",
   "execution_count": 561,
   "metadata": {},
   "outputs": [
    {
     "data": {
      "text/plain": [
       "<Axes: ylabel='trip_distance'>"
      ]
     },
     "execution_count": 561,
     "metadata": {},
     "output_type": "execute_result"
    },
    {
     "data": {
      "image/png": "[encoded data removed]",
      "text/plain": [
       "<Figure size 640x480 with 1 Axes>"
      ]
     },
     "metadata": {},
     "output_type": "display_data"
    }
   ],
   "source": [
    "sns.boxplot(yellow_taxi_df, y='trip_distance')"
   ]
  },
  {
   "cell_type": "markdown",
   "metadata": {},
   "source": [
    "Removing Datapoints where Trip Distance is 0 (Invalid Trip)"
   ]
  },
  {
   "cell_type": "code",
   "execution_count": 562,
   "metadata": {},
   "outputs": [],
   "source": [
    "# Remove datapoints with distance of 0\n",
    "yellow_taxi_df = yellow_taxi_df.loc[yellow_taxi_df['trip_distance']>0]"
   ]
  },
  {
   "cell_type": "markdown",
   "metadata": {},
   "source": [
    "#### Extra"
   ]
  },
  {
   "cell_type": "code",
   "execution_count": 563,
   "metadata": {},
   "outputs": [
    {
     "data": {
      "text/plain": [
       "<Axes: ylabel='extra'>"
      ]
     },
     "execution_count": 563,
     "metadata": {},
     "output_type": "execute_result"
    },
    {
     "data": {
      "image/png": "[encoded data removed]",
      "text/plain": [
       "<Figure size 640x480 with 1 Axes>"
      ]
     },
     "metadata": {},
     "output_type": "display_data"
    }
   ],
   "source": [
    "sns.boxplot(yellow_taxi_df, y='extra')"
   ]
  },
  {
   "cell_type": "markdown",
   "metadata": {},
   "source": [
    "Negative values in 'extra' indicates reverse transactions, or refunds, thus we will not require this data. To handle this, first we look at the percentage of rows with such values."
   ]
  },
  {
   "cell_type": "code",
   "execution_count": 564,
   "metadata": {},
   "outputs": [
    {
     "name": "stdout",
     "output_type": "stream",
     "text": [
      "Percentage of Rows with Negative Values in 'extra': 0.8535275559913116\n"
     ]
    }
   ],
   "source": [
    "print(f\"Percentage of Rows with Negative Values in 'extra': {len(yellow_taxi_df.loc[yellow_taxi_df['extra'] < 0]) / len(yellow_taxi_df) * 100}\")"
   ]
  },
  {
   "cell_type": "code",
   "execution_count": 565,
   "metadata": {},
   "outputs": [
    {
     "data": {
      "text/plain": [
       "<Axes: ylabel='extra'>"
      ]
     },
     "execution_count": 565,
     "metadata": {},
     "output_type": "execute_result"
    },
    {
     "data": {
      "image/png": "[encoded data removed]",
      "text/plain": [
       "<Figure size 640x480 with 1 Axes>"
      ]
     },
     "metadata": {},
     "output_type": "display_data"
    }
   ],
   "source": [
    "yellow_taxi_df = yellow_taxi_df.loc[yellow_taxi_df['extra'] >= 0]\n",
    "sns.boxplot(yellow_taxi_df, y='extra')"
   ]
  },
  {
   "cell_type": "markdown",
   "metadata": {},
   "source": [
    "#### Congestion Surcharge"
   ]
  },
  {
   "cell_type": "code",
   "execution_count": 566,
   "metadata": {},
   "outputs": [
    {
     "data": {
      "text/plain": [
       "<Axes: ylabel='congestion_surcharge'>"
      ]
     },
     "execution_count": 566,
     "metadata": {},
     "output_type": "execute_result"
    },
    {
     "data": {
      "image/png": "[encoded data removed]",
      "text/plain": [
       "<Figure size 640x480 with 1 Axes>"
      ]
     },
     "metadata": {},
     "output_type": "display_data"
    }
   ],
   "source": [
    "sns.boxplot(yellow_taxi_df, y='congestion_surcharge')"
   ]
  },
  {
   "cell_type": "code",
   "execution_count": 567,
   "metadata": {},
   "outputs": [
    {
     "name": "stdout",
     "output_type": "stream",
     "text": [
      "Percentage of Rows with Negative Values in 'extra': 0.7689689182937793\n"
     ]
    }
   ],
   "source": [
    "print(f\"Percentage of Rows with Negative Values in 'extra': {len(yellow_taxi_df.loc[yellow_taxi_df['congestion_surcharge'] < 0]) / len(yellow_taxi_df) * 100}\")"
   ]
  },
  {
   "cell_type": "markdown",
   "metadata": {},
   "source": [
    "Here, we will only keep rows with whole numbers for 'congestion_surcharge'."
   ]
  },
  {
   "cell_type": "code",
   "execution_count": 568,
   "metadata": {},
   "outputs": [],
   "source": [
    "yellow_taxi_df = yellow_taxi_df.loc[yellow_taxi_df['congestion_surcharge'] >= 0]"
   ]
  },
  {
   "cell_type": "code",
   "execution_count": 569,
   "metadata": {},
   "outputs": [
    {
     "name": "stderr",
     "output_type": "stream",
     "text": [
      "/Users/ikmalbasirun/Library/Python/3.9/lib/python/site-packages/seaborn/axisgrid.py:718: UserWarning: Using the boxplot function without specifying `order` is likely to produce an incorrect plot.\n",
      "  warnings.warn(warning)\n"
     ]
    },
    {
     "data": {
      "image/png": "[encoded data removed]",
      "text/plain": [
       "<Figure size 3000x500 with 3 Axes>"
      ]
     },
     "metadata": {},
     "output_type": "display_data"
    }
   ],
   "source": [
    "numerical_df = pd.DataFrame(yellow_taxi_df[['trip_distance','extra','congestion_surcharge']])\n",
    "\n",
    "numerical_melted_df = numerical_df.melt(var_name='Series',value_name='Values')\n",
    "\n",
    "graph = sns.FacetGrid(numerical_melted_df, col='Series', sharex=False, sharey=False, height=5, aspect=1.5, col_wrap=4)\n",
    "graph.map(sns.boxplot, 'Values')\n",
    "graph.fig.suptitle('Boxplots of Numerical Attributes', y=1.02)\n",
    "\n",
    "plt.show()"
   ]
  },
  {
   "cell_type": "markdown",
   "metadata": {},
   "source": [
    "# Data Transformation"
   ]
  },
  {
   "cell_type": "markdown",
   "metadata": {},
   "source": [
    "### Creating 'Route' Feature"
   ]
  },
  {
   "cell_type": "code",
   "execution_count": 570,
   "metadata": {},
   "outputs": [
    {
     "data": {
      "text/html": [
       "<div>\n",
       "<style scoped>\n",
       "    .dataframe tbody tr th:only-of-type {\n",
       "        vertical-align: middle;\n",
       "    }\n",
       "\n",
       "    .dataframe tbody tr th {\n",
       "        vertical-align: top;\n",
       "    }\n",
       "\n",
       "    .dataframe thead th {\n",
       "        text-align: right;\n",
       "    }\n",
       "</style>\n",
       "<table border=\"1\" class=\"dataframe\">\n",
       "  <thead>\n",
       "    <tr style=\"text-align: right;\">\n",
       "      <th></th>\n",
       "      <th>tpep_pickup_datetime</th>\n",
       "      <th>tpep_dropoff_datetime</th>\n",
       "      <th>trip_distance</th>\n",
       "      <th>PULocationID</th>\n",
       "      <th>DOLocationID</th>\n",
       "      <th>extra</th>\n",
       "      <th>congestion_surcharge</th>\n",
       "      <th>route</th>\n",
       "    </tr>\n",
       "  </thead>\n",
       "  <tbody>\n",
       "    <tr>\n",
       "      <th>1409357</th>\n",
       "      <td>2024-12-12 18:25:51</td>\n",
       "      <td>2024-12-12 18:31:30</td>\n",
       "      <td>0.94</td>\n",
       "      <td>237</td>\n",
       "      <td>236</td>\n",
       "      <td>2.50</td>\n",
       "      <td>2.50</td>\n",
       "      <td>237-236</td>\n",
       "    </tr>\n",
       "    <tr>\n",
       "      <th>1650143</th>\n",
       "      <td>2024-12-14 12:50:37</td>\n",
       "      <td>2024-12-14 13:15:55</td>\n",
       "      <td>3.05</td>\n",
       "      <td>236</td>\n",
       "      <td>107</td>\n",
       "      <td>0.00</td>\n",
       "      <td>2.50</td>\n",
       "      <td>236-107</td>\n",
       "    </tr>\n",
       "    <tr>\n",
       "      <th>578611</th>\n",
       "      <td>2024-12-05 23:03:40</td>\n",
       "      <td>2024-12-05 23:13:29</td>\n",
       "      <td>1.55</td>\n",
       "      <td>141</td>\n",
       "      <td>229</td>\n",
       "      <td>1.00</td>\n",
       "      <td>2.50</td>\n",
       "      <td>141-229</td>\n",
       "    </tr>\n",
       "    <tr>\n",
       "      <th>700015</th>\n",
       "      <td>2024-12-06 22:08:16</td>\n",
       "      <td>2024-12-06 22:23:06</td>\n",
       "      <td>0.67</td>\n",
       "      <td>163</td>\n",
       "      <td>161</td>\n",
       "      <td>1.00</td>\n",
       "      <td>2.50</td>\n",
       "      <td>163-161</td>\n",
       "    </tr>\n",
       "    <tr>\n",
       "      <th>2073610</th>\n",
       "      <td>2024-12-17 22:33:04</td>\n",
       "      <td>2024-12-17 22:38:43</td>\n",
       "      <td>1.26</td>\n",
       "      <td>236</td>\n",
       "      <td>237</td>\n",
       "      <td>1.00</td>\n",
       "      <td>2.50</td>\n",
       "      <td>236-237</td>\n",
       "    </tr>\n",
       "    <tr>\n",
       "      <th>1454661</th>\n",
       "      <td>2024-12-12 22:10:28</td>\n",
       "      <td>2024-12-12 22:29:11</td>\n",
       "      <td>1.50</td>\n",
       "      <td>114</td>\n",
       "      <td>79</td>\n",
       "      <td>3.50</td>\n",
       "      <td>2.50</td>\n",
       "      <td>114-79</td>\n",
       "    </tr>\n",
       "    <tr>\n",
       "      <th>2164780</th>\n",
       "      <td>2024-12-18 18:57:19</td>\n",
       "      <td>2024-12-18 19:25:50</td>\n",
       "      <td>4.90</td>\n",
       "      <td>142</td>\n",
       "      <td>112</td>\n",
       "      <td>2.50</td>\n",
       "      <td>2.50</td>\n",
       "      <td>142-112</td>\n",
       "    </tr>\n",
       "    <tr>\n",
       "      <th>411397</th>\n",
       "      <td>2024-12-04 19:41:40</td>\n",
       "      <td>2024-12-04 20:03:49</td>\n",
       "      <td>2.94</td>\n",
       "      <td>161</td>\n",
       "      <td>75</td>\n",
       "      <td>2.50</td>\n",
       "      <td>2.50</td>\n",
       "      <td>161-75</td>\n",
       "    </tr>\n",
       "    <tr>\n",
       "      <th>2744345</th>\n",
       "      <td>2024-12-23 20:12:14</td>\n",
       "      <td>2024-12-23 20:29:36</td>\n",
       "      <td>3.59</td>\n",
       "      <td>170</td>\n",
       "      <td>263</td>\n",
       "      <td>1.00</td>\n",
       "      <td>2.50</td>\n",
       "      <td>170-263</td>\n",
       "    </tr>\n",
       "    <tr>\n",
       "      <th>2919481</th>\n",
       "      <td>2024-12-26 17:27:04</td>\n",
       "      <td>2024-12-26 17:45:46</td>\n",
       "      <td>4.67</td>\n",
       "      <td>261</td>\n",
       "      <td>143</td>\n",
       "      <td>2.50</td>\n",
       "      <td>2.50</td>\n",
       "      <td>261-143</td>\n",
       "    </tr>\n",
       "  </tbody>\n",
       "</table>\n",
       "</div>"
      ],
      "text/plain": [
       "        tpep_pickup_datetime tpep_dropoff_datetime  trip_distance  \\\n",
       "1409357  2024-12-12 18:25:51   2024-12-12 18:31:30           0.94   \n",
       "1650143  2024-12-14 12:50:37   2024-12-14 13:15:55           3.05   \n",
       "578611   2024-12-05 23:03:40   2024-12-05 23:13:29           1.55   \n",
       "700015   2024-12-06 22:08:16   2024-12-06 22:23:06           0.67   \n",
       "2073610  2024-12-17 22:33:04   2024-12-17 22:38:43           1.26   \n",
       "1454661  2024-12-12 22:10:28   2024-12-12 22:29:11           1.50   \n",
       "2164780  2024-12-18 18:57:19   2024-12-18 19:25:50           4.90   \n",
       "411397   2024-12-04 19:41:40   2024-12-04 20:03:49           2.94   \n",
       "2744345  2024-12-23 20:12:14   2024-12-23 20:29:36           3.59   \n",
       "2919481  2024-12-26 17:27:04   2024-12-26 17:45:46           4.67   \n",
       "\n",
       "         PULocationID  DOLocationID  extra  congestion_surcharge    route  \n",
       "1409357           237           236   2.50                  2.50  237-236  \n",
       "1650143           236           107   0.00                  2.50  236-107  \n",
       "578611            141           229   1.00                  2.50  141-229  \n",
       "700015            163           161   1.00                  2.50  163-161  \n",
       "2073610           236           237   1.00                  2.50  236-237  \n",
       "1454661           114            79   3.50                  2.50   114-79  \n",
       "2164780           142           112   2.50                  2.50  142-112  \n",
       "411397            161            75   2.50                  2.50   161-75  \n",
       "2744345           170           263   1.00                  2.50  170-263  \n",
       "2919481           261           143   2.50                  2.50  261-143  "
      ]
     },
     "execution_count": 570,
     "metadata": {},
     "output_type": "execute_result"
    }
   ],
   "source": [
    "yellow_taxi_df['route'] = yellow_taxi_df[\"PULocationID\"].astype(str) + \"-\" + yellow_taxi_df[\"DOLocationID\"].astype(str)\n",
    "\n",
    "yellow_taxi_df.sample(10)"
   ]
  },
  {
   "cell_type": "code",
   "execution_count": 571,
   "metadata": {},
   "outputs": [
    {
     "data": {
      "text/plain": [
       "12525"
      ]
     },
     "execution_count": 571,
     "metadata": {},
     "output_type": "execute_result"
    }
   ],
   "source": [
    "yellow_taxi_df['route'].nunique()"
   ]
  },
  {
   "cell_type": "markdown",
   "metadata": {},
   "source": [
    "#### Frequency Encoding"
   ]
  },
  {
   "cell_type": "code",
   "execution_count": 572,
   "metadata": {},
   "outputs": [
    {
     "data": {
      "text/html": [
       "<div>\n",
       "<style scoped>\n",
       "    .dataframe tbody tr th:only-of-type {\n",
       "        vertical-align: middle;\n",
       "    }\n",
       "\n",
       "    .dataframe tbody tr th {\n",
       "        vertical-align: top;\n",
       "    }\n",
       "\n",
       "    .dataframe thead th {\n",
       "        text-align: right;\n",
       "    }\n",
       "</style>\n",
       "<table border=\"1\" class=\"dataframe\">\n",
       "  <thead>\n",
       "    <tr style=\"text-align: right;\">\n",
       "      <th></th>\n",
       "      <th>tpep_pickup_datetime</th>\n",
       "      <th>tpep_dropoff_datetime</th>\n",
       "      <th>trip_distance</th>\n",
       "      <th>PULocationID</th>\n",
       "      <th>DOLocationID</th>\n",
       "      <th>extra</th>\n",
       "      <th>congestion_surcharge</th>\n",
       "      <th>route</th>\n",
       "      <th>route_freq</th>\n",
       "    </tr>\n",
       "  </thead>\n",
       "  <tbody>\n",
       "    <tr>\n",
       "      <th>3</th>\n",
       "      <td>2024-12-01 00:18:16</td>\n",
       "      <td>2024-12-01 00:33:16</td>\n",
       "      <td>2.34</td>\n",
       "      <td>142</td>\n",
       "      <td>186</td>\n",
       "      <td>1.00</td>\n",
       "      <td>2.50</td>\n",
       "      <td>142-186</td>\n",
       "      <td>1390</td>\n",
       "    </tr>\n",
       "    <tr>\n",
       "      <th>4</th>\n",
       "      <td>2024-12-01 00:56:13</td>\n",
       "      <td>2024-12-01 01:18:25</td>\n",
       "      <td>5.05</td>\n",
       "      <td>107</td>\n",
       "      <td>80</td>\n",
       "      <td>1.00</td>\n",
       "      <td>2.50</td>\n",
       "      <td>107-80</td>\n",
       "      <td>55</td>\n",
       "    </tr>\n",
       "    <tr>\n",
       "      <th>5</th>\n",
       "      <td>2024-12-01 00:21:17</td>\n",
       "      <td>2024-12-01 00:37:22</td>\n",
       "      <td>4.30</td>\n",
       "      <td>249</td>\n",
       "      <td>141</td>\n",
       "      <td>3.50</td>\n",
       "      <td>2.50</td>\n",
       "      <td>249-141</td>\n",
       "      <td>680</td>\n",
       "    </tr>\n",
       "    <tr>\n",
       "      <th>7</th>\n",
       "      <td>2024-12-01 00:15:28</td>\n",
       "      <td>2024-12-01 00:20:13</td>\n",
       "      <td>0.30</td>\n",
       "      <td>148</td>\n",
       "      <td>148</td>\n",
       "      <td>3.50</td>\n",
       "      <td>2.50</td>\n",
       "      <td>148-148</td>\n",
       "      <td>936</td>\n",
       "    </tr>\n",
       "    <tr>\n",
       "      <th>9</th>\n",
       "      <td>2024-12-01 00:00:21</td>\n",
       "      <td>2024-12-01 00:05:27</td>\n",
       "      <td>0.72</td>\n",
       "      <td>211</td>\n",
       "      <td>231</td>\n",
       "      <td>1.00</td>\n",
       "      <td>2.50</td>\n",
       "      <td>211-231</td>\n",
       "      <td>1343</td>\n",
       "    </tr>\n",
       "    <tr>\n",
       "      <th>10</th>\n",
       "      <td>2024-12-01 00:07:13</td>\n",
       "      <td>2024-12-01 00:20:57</td>\n",
       "      <td>3.54</td>\n",
       "      <td>231</td>\n",
       "      <td>48</td>\n",
       "      <td>1.00</td>\n",
       "      <td>2.50</td>\n",
       "      <td>231-48</td>\n",
       "      <td>730</td>\n",
       "    </tr>\n",
       "    <tr>\n",
       "      <th>11</th>\n",
       "      <td>2024-12-01 00:34:04</td>\n",
       "      <td>2024-12-01 00:44:33</td>\n",
       "      <td>1.38</td>\n",
       "      <td>68</td>\n",
       "      <td>137</td>\n",
       "      <td>1.00</td>\n",
       "      <td>2.50</td>\n",
       "      <td>68-137</td>\n",
       "      <td>837</td>\n",
       "    </tr>\n",
       "    <tr>\n",
       "      <th>12</th>\n",
       "      <td>2024-12-01 00:57:27</td>\n",
       "      <td>2024-12-01 01:00:44</td>\n",
       "      <td>0.45</td>\n",
       "      <td>230</td>\n",
       "      <td>162</td>\n",
       "      <td>1.00</td>\n",
       "      <td>2.50</td>\n",
       "      <td>230-162</td>\n",
       "      <td>2838</td>\n",
       "    </tr>\n",
       "    <tr>\n",
       "      <th>13</th>\n",
       "      <td>2024-12-01 00:02:07</td>\n",
       "      <td>2024-12-01 00:19:36</td>\n",
       "      <td>2.70</td>\n",
       "      <td>100</td>\n",
       "      <td>239</td>\n",
       "      <td>3.50</td>\n",
       "      <td>2.50</td>\n",
       "      <td>100-239</td>\n",
       "      <td>796</td>\n",
       "    </tr>\n",
       "    <tr>\n",
       "      <th>15</th>\n",
       "      <td>2024-12-01 00:07:12</td>\n",
       "      <td>2024-12-01 00:07:25</td>\n",
       "      <td>0.03</td>\n",
       "      <td>262</td>\n",
       "      <td>140</td>\n",
       "      <td>1.00</td>\n",
       "      <td>2.50</td>\n",
       "      <td>262-140</td>\n",
       "      <td>3694</td>\n",
       "    </tr>\n",
       "  </tbody>\n",
       "</table>\n",
       "</div>"
      ],
      "text/plain": [
       "   tpep_pickup_datetime tpep_dropoff_datetime  trip_distance  PULocationID  \\\n",
       "3   2024-12-01 00:18:16   2024-12-01 00:33:16           2.34           142   \n",
       "4   2024-12-01 00:56:13   2024-12-01 01:18:25           5.05           107   \n",
       "5   2024-12-01 00:21:17   2024-12-01 00:37:22           4.30           249   \n",
       "7   2024-12-01 00:15:28   2024-12-01 00:20:13           0.30           148   \n",
       "9   2024-12-01 00:00:21   2024-12-01 00:05:27           0.72           211   \n",
       "10  2024-12-01 00:07:13   2024-12-01 00:20:57           3.54           231   \n",
       "11  2024-12-01 00:34:04   2024-12-01 00:44:33           1.38            68   \n",
       "12  2024-12-01 00:57:27   2024-12-01 01:00:44           0.45           230   \n",
       "13  2024-12-01 00:02:07   2024-12-01 00:19:36           2.70           100   \n",
       "15  2024-12-01 00:07:12   2024-12-01 00:07:25           0.03           262   \n",
       "\n",
       "    DOLocationID  extra  congestion_surcharge    route  route_freq  \n",
       "3            186   1.00                  2.50  142-186        1390  \n",
       "4             80   1.00                  2.50   107-80          55  \n",
       "5            141   3.50                  2.50  249-141         680  \n",
       "7            148   3.50                  2.50  148-148         936  \n",
       "9            231   1.00                  2.50  211-231        1343  \n",
       "10            48   1.00                  2.50   231-48         730  \n",
       "11           137   1.00                  2.50   68-137         837  \n",
       "12           162   1.00                  2.50  230-162        2838  \n",
       "13           239   3.50                  2.50  100-239         796  \n",
       "15           140   1.00                  2.50  262-140        3694  "
      ]
     },
     "execution_count": 572,
     "metadata": {},
     "output_type": "execute_result"
    }
   ],
   "source": [
    "route_counts = yellow_taxi_df['route'].value_counts()\n",
    "yellow_taxi_df['route_freq'] = yellow_taxi_df['route'].map(route_counts)\n",
    "\n",
    "yellow_taxi_df.head(10)"
   ]
  },
  {
   "cell_type": "code",
   "execution_count": 573,
   "metadata": {},
   "outputs": [],
   "source": [
    "yellow_taxi_df.drop(columns='route',inplace=True)"
   ]
  },
  {
   "cell_type": "markdown",
   "metadata": {},
   "source": [
    "### Creating 'Trip Duration' Feature"
   ]
  },
  {
   "cell_type": "code",
   "execution_count": 574,
   "metadata": {},
   "outputs": [
    {
     "data": {
      "text/html": [
       "<div>\n",
       "<style scoped>\n",
       "    .dataframe tbody tr th:only-of-type {\n",
       "        vertical-align: middle;\n",
       "    }\n",
       "\n",
       "    .dataframe tbody tr th {\n",
       "        vertical-align: top;\n",
       "    }\n",
       "\n",
       "    .dataframe thead th {\n",
       "        text-align: right;\n",
       "    }\n",
       "</style>\n",
       "<table border=\"1\" class=\"dataframe\">\n",
       "  <thead>\n",
       "    <tr style=\"text-align: right;\">\n",
       "      <th></th>\n",
       "      <th>tpep_pickup_datetime</th>\n",
       "      <th>tpep_dropoff_datetime</th>\n",
       "      <th>trip_distance</th>\n",
       "      <th>PULocationID</th>\n",
       "      <th>DOLocationID</th>\n",
       "      <th>extra</th>\n",
       "      <th>congestion_surcharge</th>\n",
       "      <th>route_freq</th>\n",
       "      <th>trip_duration_in_mins</th>\n",
       "    </tr>\n",
       "  </thead>\n",
       "  <tbody>\n",
       "    <tr>\n",
       "      <th>3</th>\n",
       "      <td>2024-12-01 00:18:16</td>\n",
       "      <td>2024-12-01 00:33:16</td>\n",
       "      <td>2.34</td>\n",
       "      <td>142</td>\n",
       "      <td>186</td>\n",
       "      <td>1.00</td>\n",
       "      <td>2.50</td>\n",
       "      <td>1390</td>\n",
       "      <td>15.00</td>\n",
       "    </tr>\n",
       "    <tr>\n",
       "      <th>4</th>\n",
       "      <td>2024-12-01 00:56:13</td>\n",
       "      <td>2024-12-01 01:18:25</td>\n",
       "      <td>5.05</td>\n",
       "      <td>107</td>\n",
       "      <td>80</td>\n",
       "      <td>1.00</td>\n",
       "      <td>2.50</td>\n",
       "      <td>55</td>\n",
       "      <td>22.20</td>\n",
       "    </tr>\n",
       "    <tr>\n",
       "      <th>5</th>\n",
       "      <td>2024-12-01 00:21:17</td>\n",
       "      <td>2024-12-01 00:37:22</td>\n",
       "      <td>4.30</td>\n",
       "      <td>249</td>\n",
       "      <td>141</td>\n",
       "      <td>3.50</td>\n",
       "      <td>2.50</td>\n",
       "      <td>680</td>\n",
       "      <td>16.08</td>\n",
       "    </tr>\n",
       "    <tr>\n",
       "      <th>7</th>\n",
       "      <td>2024-12-01 00:15:28</td>\n",
       "      <td>2024-12-01 00:20:13</td>\n",
       "      <td>0.30</td>\n",
       "      <td>148</td>\n",
       "      <td>148</td>\n",
       "      <td>3.50</td>\n",
       "      <td>2.50</td>\n",
       "      <td>936</td>\n",
       "      <td>4.75</td>\n",
       "    </tr>\n",
       "    <tr>\n",
       "      <th>9</th>\n",
       "      <td>2024-12-01 00:00:21</td>\n",
       "      <td>2024-12-01 00:05:27</td>\n",
       "      <td>0.72</td>\n",
       "      <td>211</td>\n",
       "      <td>231</td>\n",
       "      <td>1.00</td>\n",
       "      <td>2.50</td>\n",
       "      <td>1343</td>\n",
       "      <td>5.10</td>\n",
       "    </tr>\n",
       "    <tr>\n",
       "      <th>10</th>\n",
       "      <td>2024-12-01 00:07:13</td>\n",
       "      <td>2024-12-01 00:20:57</td>\n",
       "      <td>3.54</td>\n",
       "      <td>231</td>\n",
       "      <td>48</td>\n",
       "      <td>1.00</td>\n",
       "      <td>2.50</td>\n",
       "      <td>730</td>\n",
       "      <td>13.73</td>\n",
       "    </tr>\n",
       "    <tr>\n",
       "      <th>11</th>\n",
       "      <td>2024-12-01 00:34:04</td>\n",
       "      <td>2024-12-01 00:44:33</td>\n",
       "      <td>1.38</td>\n",
       "      <td>68</td>\n",
       "      <td>137</td>\n",
       "      <td>1.00</td>\n",
       "      <td>2.50</td>\n",
       "      <td>837</td>\n",
       "      <td>10.48</td>\n",
       "    </tr>\n",
       "    <tr>\n",
       "      <th>12</th>\n",
       "      <td>2024-12-01 00:57:27</td>\n",
       "      <td>2024-12-01 01:00:44</td>\n",
       "      <td>0.45</td>\n",
       "      <td>230</td>\n",
       "      <td>162</td>\n",
       "      <td>1.00</td>\n",
       "      <td>2.50</td>\n",
       "      <td>2838</td>\n",
       "      <td>3.28</td>\n",
       "    </tr>\n",
       "    <tr>\n",
       "      <th>13</th>\n",
       "      <td>2024-12-01 00:02:07</td>\n",
       "      <td>2024-12-01 00:19:36</td>\n",
       "      <td>2.70</td>\n",
       "      <td>100</td>\n",
       "      <td>239</td>\n",
       "      <td>3.50</td>\n",
       "      <td>2.50</td>\n",
       "      <td>796</td>\n",
       "      <td>17.48</td>\n",
       "    </tr>\n",
       "    <tr>\n",
       "      <th>15</th>\n",
       "      <td>2024-12-01 00:07:12</td>\n",
       "      <td>2024-12-01 00:07:25</td>\n",
       "      <td>0.03</td>\n",
       "      <td>262</td>\n",
       "      <td>140</td>\n",
       "      <td>1.00</td>\n",
       "      <td>2.50</td>\n",
       "      <td>3694</td>\n",
       "      <td>0.22</td>\n",
       "    </tr>\n",
       "  </tbody>\n",
       "</table>\n",
       "</div>"
      ],
      "text/plain": [
       "   tpep_pickup_datetime tpep_dropoff_datetime  trip_distance  PULocationID  \\\n",
       "3   2024-12-01 00:18:16   2024-12-01 00:33:16           2.34           142   \n",
       "4   2024-12-01 00:56:13   2024-12-01 01:18:25           5.05           107   \n",
       "5   2024-12-01 00:21:17   2024-12-01 00:37:22           4.30           249   \n",
       "7   2024-12-01 00:15:28   2024-12-01 00:20:13           0.30           148   \n",
       "9   2024-12-01 00:00:21   2024-12-01 00:05:27           0.72           211   \n",
       "10  2024-12-01 00:07:13   2024-12-01 00:20:57           3.54           231   \n",
       "11  2024-12-01 00:34:04   2024-12-01 00:44:33           1.38            68   \n",
       "12  2024-12-01 00:57:27   2024-12-01 01:00:44           0.45           230   \n",
       "13  2024-12-01 00:02:07   2024-12-01 00:19:36           2.70           100   \n",
       "15  2024-12-01 00:07:12   2024-12-01 00:07:25           0.03           262   \n",
       "\n",
       "    DOLocationID  extra  congestion_surcharge  route_freq  \\\n",
       "3            186   1.00                  2.50        1390   \n",
       "4             80   1.00                  2.50          55   \n",
       "5            141   3.50                  2.50         680   \n",
       "7            148   3.50                  2.50         936   \n",
       "9            231   1.00                  2.50        1343   \n",
       "10            48   1.00                  2.50         730   \n",
       "11           137   1.00                  2.50         837   \n",
       "12           162   1.00                  2.50        2838   \n",
       "13           239   3.50                  2.50         796   \n",
       "15           140   1.00                  2.50        3694   \n",
       "\n",
       "    trip_duration_in_mins  \n",
       "3                   15.00  \n",
       "4                   22.20  \n",
       "5                   16.08  \n",
       "7                    4.75  \n",
       "9                    5.10  \n",
       "10                  13.73  \n",
       "11                  10.48  \n",
       "12                   3.28  \n",
       "13                  17.48  \n",
       "15                   0.22  "
      ]
     },
     "execution_count": 574,
     "metadata": {},
     "output_type": "execute_result"
    }
   ],
   "source": [
    "yellow_taxi_df['trip_duration_in_mins'] = (yellow_taxi_df['tpep_dropoff_datetime'] - yellow_taxi_df['tpep_pickup_datetime']).dt.total_seconds() / 60\n",
    "\n",
    "yellow_taxi_df.head(10)"
   ]
  },
  {
   "cell_type": "code",
   "execution_count": 575,
   "metadata": {},
   "outputs": [
    {
     "data": {
      "text/html": [
       "<div>\n",
       "<style scoped>\n",
       "    .dataframe tbody tr th:only-of-type {\n",
       "        vertical-align: middle;\n",
       "    }\n",
       "\n",
       "    .dataframe tbody tr th {\n",
       "        vertical-align: top;\n",
       "    }\n",
       "\n",
       "    .dataframe thead th {\n",
       "        text-align: right;\n",
       "    }\n",
       "</style>\n",
       "<table border=\"1\" class=\"dataframe\">\n",
       "  <thead>\n",
       "    <tr style=\"text-align: right;\">\n",
       "      <th></th>\n",
       "      <th>tpep_pickup_datetime</th>\n",
       "      <th>tpep_dropoff_datetime</th>\n",
       "      <th>trip_distance</th>\n",
       "      <th>PULocationID</th>\n",
       "      <th>DOLocationID</th>\n",
       "      <th>extra</th>\n",
       "      <th>congestion_surcharge</th>\n",
       "      <th>route_freq</th>\n",
       "      <th>trip_duration_in_mins</th>\n",
       "    </tr>\n",
       "  </thead>\n",
       "  <tbody>\n",
       "    <tr>\n",
       "      <th>135576</th>\n",
       "      <td>2024-12-02 14:30:00</td>\n",
       "      <td>2024-12-02 14:06:39</td>\n",
       "      <td>2.50</td>\n",
       "      <td>48</td>\n",
       "      <td>79</td>\n",
       "      <td>0.00</td>\n",
       "      <td>0.00</td>\n",
       "      <td>795</td>\n",
       "      <td>-23.35</td>\n",
       "    </tr>\n",
       "    <tr>\n",
       "      <th>731014</th>\n",
       "      <td>2024-12-07 04:28:00</td>\n",
       "      <td>2024-12-07 04:24:28</td>\n",
       "      <td>0.50</td>\n",
       "      <td>216</td>\n",
       "      <td>216</td>\n",
       "      <td>0.00</td>\n",
       "      <td>0.00</td>\n",
       "      <td>312</td>\n",
       "      <td>-3.53</td>\n",
       "    </tr>\n",
       "    <tr>\n",
       "      <th>1772332</th>\n",
       "      <td>2024-12-15 09:30:00</td>\n",
       "      <td>2024-12-15 09:24:20</td>\n",
       "      <td>0.70</td>\n",
       "      <td>166</td>\n",
       "      <td>41</td>\n",
       "      <td>0.00</td>\n",
       "      <td>0.00</td>\n",
       "      <td>591</td>\n",
       "      <td>-5.67</td>\n",
       "    </tr>\n",
       "    <tr>\n",
       "      <th>1904747</th>\n",
       "      <td>2024-12-16 14:30:00</td>\n",
       "      <td>2024-12-16 14:02:41</td>\n",
       "      <td>2.40</td>\n",
       "      <td>168</td>\n",
       "      <td>119</td>\n",
       "      <td>0.00</td>\n",
       "      <td>0.00</td>\n",
       "      <td>5</td>\n",
       "      <td>-27.32</td>\n",
       "    </tr>\n",
       "    <tr>\n",
       "      <th>1992884</th>\n",
       "      <td>2024-12-17 11:45:00</td>\n",
       "      <td>2024-12-17 11:29:46</td>\n",
       "      <td>3.40</td>\n",
       "      <td>76</td>\n",
       "      <td>188</td>\n",
       "      <td>0.00</td>\n",
       "      <td>0.00</td>\n",
       "      <td>25</td>\n",
       "      <td>-15.23</td>\n",
       "    </tr>\n",
       "    <tr>\n",
       "      <th>2687093</th>\n",
       "      <td>2024-12-23 10:00:00</td>\n",
       "      <td>2024-12-23 09:50:33</td>\n",
       "      <td>1.60</td>\n",
       "      <td>63</td>\n",
       "      <td>76</td>\n",
       "      <td>0.00</td>\n",
       "      <td>0.00</td>\n",
       "      <td>15</td>\n",
       "      <td>-9.45</td>\n",
       "    </tr>\n",
       "    <tr>\n",
       "      <th>3277840</th>\n",
       "      <td>2024-12-31 10:30:00</td>\n",
       "      <td>2024-12-31 10:18:08</td>\n",
       "      <td>6.50</td>\n",
       "      <td>61</td>\n",
       "      <td>29</td>\n",
       "      <td>0.00</td>\n",
       "      <td>0.00</td>\n",
       "      <td>1</td>\n",
       "      <td>-11.87</td>\n",
       "    </tr>\n",
       "    <tr>\n",
       "      <th>3290768</th>\n",
       "      <td>2024-12-31 13:00:00</td>\n",
       "      <td>2024-12-31 12:46:37</td>\n",
       "      <td>0.50</td>\n",
       "      <td>89</td>\n",
       "      <td>71</td>\n",
       "      <td>0.00</td>\n",
       "      <td>0.00</td>\n",
       "      <td>26</td>\n",
       "      <td>-13.38</td>\n",
       "    </tr>\n",
       "    <tr>\n",
       "      <th>3291742</th>\n",
       "      <td>2024-12-31 13:00:00</td>\n",
       "      <td>2024-12-31 12:59:12</td>\n",
       "      <td>2.30</td>\n",
       "      <td>76</td>\n",
       "      <td>61</td>\n",
       "      <td>0.00</td>\n",
       "      <td>0.00</td>\n",
       "      <td>40</td>\n",
       "      <td>-0.80</td>\n",
       "    </tr>\n",
       "  </tbody>\n",
       "</table>\n",
       "</div>"
      ],
      "text/plain": [
       "        tpep_pickup_datetime tpep_dropoff_datetime  trip_distance  \\\n",
       "135576   2024-12-02 14:30:00   2024-12-02 14:06:39           2.50   \n",
       "731014   2024-12-07 04:28:00   2024-12-07 04:24:28           0.50   \n",
       "1772332  2024-12-15 09:30:00   2024-12-15 09:24:20           0.70   \n",
       "1904747  2024-12-16 14:30:00   2024-12-16 14:02:41           2.40   \n",
       "1992884  2024-12-17 11:45:00   2024-12-17 11:29:46           3.40   \n",
       "2687093  2024-12-23 10:00:00   2024-12-23 09:50:33           1.60   \n",
       "3277840  2024-12-31 10:30:00   2024-12-31 10:18:08           6.50   \n",
       "3290768  2024-12-31 13:00:00   2024-12-31 12:46:37           0.50   \n",
       "3291742  2024-12-31 13:00:00   2024-12-31 12:59:12           2.30   \n",
       "\n",
       "         PULocationID  DOLocationID  extra  congestion_surcharge  route_freq  \\\n",
       "135576             48            79   0.00                  0.00         795   \n",
       "731014            216           216   0.00                  0.00         312   \n",
       "1772332           166            41   0.00                  0.00         591   \n",
       "1904747           168           119   0.00                  0.00           5   \n",
       "1992884            76           188   0.00                  0.00          25   \n",
       "2687093            63            76   0.00                  0.00          15   \n",
       "3277840            61            29   0.00                  0.00           1   \n",
       "3290768            89            71   0.00                  0.00          26   \n",
       "3291742            76            61   0.00                  0.00          40   \n",
       "\n",
       "         trip_duration_in_mins  \n",
       "135576                  -23.35  \n",
       "731014                   -3.53  \n",
       "1772332                  -5.67  \n",
       "1904747                 -27.32  \n",
       "1992884                 -15.23  \n",
       "2687093                  -9.45  \n",
       "3277840                 -11.87  \n",
       "3290768                 -13.38  \n",
       "3291742                  -0.80  "
      ]
     },
     "execution_count": 575,
     "metadata": {},
     "output_type": "execute_result"
    }
   ],
   "source": [
    "yellow_taxi_df.loc[yellow_taxi_df['trip_duration_in_mins'] < 0]"
   ]
  },
  {
   "cell_type": "markdown",
   "metadata": {},
   "source": [
    "The statistics above show the existence of negative values in 'trip_duration_in_mins', which is impossible in nature. Thus, we need to decide the next step for these rows."
   ]
  },
  {
   "cell_type": "code",
   "execution_count": 576,
   "metadata": {},
   "outputs": [
    {
     "name": "stdout",
     "output_type": "stream",
     "text": [
      "Percentage of Rows with Negative Values in 'trip_duration_in_mins': 0.00032072549532489135\n"
     ]
    }
   ],
   "source": [
    "print(f\"Percentage of Rows with Negative Values in 'trip_duration_in_mins': {len(yellow_taxi_df.loc[yellow_taxi_df['trip_duration_in_mins'] < 0]) / len(yellow_taxi_df) * 100}\")"
   ]
  },
  {
   "cell_type": "markdown",
   "metadata": {},
   "source": [
    "Since the percentage of rows with negative values in 'trip_duration_in_mins' is very small and insignificant, it is acceptable to remove them."
   ]
  },
  {
   "cell_type": "code",
   "execution_count": 577,
   "metadata": {},
   "outputs": [
    {
     "name": "stdout",
     "output_type": "stream",
     "text": [
      "Percentage of Rows with Negative Values in 'trip_duration_in_mins': 0.0\n"
     ]
    }
   ],
   "source": [
    "yellow_taxi_df = yellow_taxi_df.loc[yellow_taxi_df['trip_duration_in_mins'] >= 0]\n",
    "\n",
    "print(f\"Percentage of Rows with Negative Values in 'trip_duration_in_mins': {len(yellow_taxi_df.loc[yellow_taxi_df['trip_duration_in_mins'] < 0]) / len(yellow_taxi_df) * 100}\")"
   ]
  },
  {
   "cell_type": "code",
   "execution_count": 578,
   "metadata": {},
   "outputs": [
    {
     "data": {
      "text/plain": [
       "count   2806129.00\n",
       "mean         14.91\n",
       "std          32.83\n",
       "min           0.00\n",
       "25%           7.35\n",
       "50%          11.97\n",
       "75%          18.77\n",
       "max        5992.25\n",
       "Name: trip_duration_in_mins, dtype: float64"
      ]
     },
     "execution_count": 578,
     "metadata": {},
     "output_type": "execute_result"
    }
   ],
   "source": [
    "yellow_taxi_df['trip_duration_in_mins'].describe()"
   ]
  },
  {
   "cell_type": "markdown",
   "metadata": {},
   "source": [
    "Next, let's have a look at the feature's distribution using boxplot."
   ]
  },
  {
   "cell_type": "code",
   "execution_count": 579,
   "metadata": {},
   "outputs": [
    {
     "data": {
      "text/plain": [
       "<Axes: xlabel='trip_duration_in_mins'>"
      ]
     },
     "execution_count": 579,
     "metadata": {},
     "output_type": "execute_result"
    },
    {
     "data": {
      "image/png": "[encoded data removed]",
      "text/plain": [
       "<Figure size 640x480 with 1 Axes>"
      ]
     },
     "metadata": {},
     "output_type": "display_data"
    }
   ],
   "source": [
    "sns.boxplot(x=yellow_taxi_df['trip_duration_in_mins'])"
   ]
  },
  {
   "cell_type": "markdown",
   "metadata": {},
   "source": [
    "The long tails in the boxplot figure above indicates extreme skewness, thus, the outliers will be capped using the IQR method instead of using Z-score.\n",
    "\n",
    "(UPDATE: Similarly to 'trip_distance', capping the outliers was not an effective approach, thus outliers will be removed.)"
   ]
  },
  {
   "cell_type": "markdown",
   "metadata": {},
   "source": [
    "#### Removing Outliers in 'trip_duration_in_mins'"
   ]
  },
  {
   "cell_type": "code",
   "execution_count": 580,
   "metadata": {},
   "outputs": [],
   "source": [
    "# Calculate IQR\n",
    "Q1 = yellow_taxi_df['trip_duration_in_mins'].quantile(0.25)  # 25th percentile\n",
    "Q3 = yellow_taxi_df['trip_duration_in_mins'].quantile(0.75)  # 75th percentile\n",
    "IQR = Q3 - Q1  # Interquartile range\n",
    "\n",
    "# Define outlier bounds\n",
    "lower_bound = Q1 - 1.5 * IQR\n",
    "upper_bound = Q3 + 1.5 * IQR\n",
    "\n",
    "# Remove outliers crossing the bounds\n",
    "yellow_taxi_df = yellow_taxi_df.loc[\n",
    "    (yellow_taxi_df['trip_duration_in_mins'] <= upper_bound) &\n",
    "    (yellow_taxi_df['trip_duration_in_mins'] >= lower_bound)\n",
    "]"
   ]
  },
  {
   "cell_type": "code",
   "execution_count": 581,
   "metadata": {},
   "outputs": [
    {
     "data": {
      "text/plain": [
       "<Axes: xlabel='trip_duration_in_mins'>"
      ]
     },
     "execution_count": 581,
     "metadata": {},
     "output_type": "execute_result"
    },
    {
     "data": {
      "image/png": "[encoded data removed]",
      "text/plain": [
       "<Figure size 640x480 with 1 Axes>"
      ]
     },
     "metadata": {},
     "output_type": "display_data"
    }
   ],
   "source": [
    "sns.boxplot(x=yellow_taxi_df['trip_duration_in_mins'])"
   ]
  },
  {
   "cell_type": "markdown",
   "metadata": {},
   "source": [
    "Now that the outliers for our new feature 'trip_duration_in_mins' are handled, let's take a look at the histogram of the feature."
   ]
  },
  {
   "cell_type": "code",
   "execution_count": 582,
   "metadata": {},
   "outputs": [
    {
     "data": {
      "image/png": "[encoded data removed]",
      "text/plain": [
       "<Figure size 640x480 with 1 Axes>"
      ]
     },
     "metadata": {},
     "output_type": "display_data"
    }
   ],
   "source": [
    "plt.hist(yellow_taxi_df['trip_duration_in_mins'],bins=50)\n",
    "plt.xlabel(\"Trip Duration (in Mins)\")\n",
    "plt.ylabel(\"Frequency\")\n",
    "plt.show()"
   ]
  },
  {
   "cell_type": "markdown",
   "metadata": {},
   "source": [
    "The histogram above shows a skewedness towards the left. This shows that there are more data collected for trips with durations around 5-15 minutes. Moreover, this shows an **imbalace** in the dataset, which is important to acknowledge."
   ]
  },
  {
   "cell_type": "code",
   "execution_count": 583,
   "metadata": {},
   "outputs": [
    {
     "data": {
      "image/png": "[encoded data removed]",
      "text/plain": [
       "<Figure size 640x480 with 1 Axes>"
      ]
     },
     "metadata": {},
     "output_type": "display_data"
    }
   ],
   "source": [
    "# Take a random sample of rows (adjust as needed)\n",
    "sample_df = yellow_taxi_df.sample(n=7000, random_state=42) \n",
    "\n",
    "sns.scatterplot(x=sample_df['trip_distance'], y=sample_df['trip_duration_in_mins'])\n",
    "plt.show()"
   ]
  },
  {
   "cell_type": "markdown",
   "metadata": {},
   "source": [
    "Now that the extreme outliers have been removed, the pairplot provides a clearer insight into the data. \n",
    "\n",
    "##### Analysis\n",
    "- The scatterplot reveals a **linear relationship** between trip distance and duration within the **0 to 2-mile range**. However, for trips exceeding 2 miles, the duration becomes more **variable**. This variation is expected, as longer routes are more susceptible to **traffic congestion**, which can be influenced by factors such as **road-related incidents, overall traffic flow, and nearby events**. These insights highlight the complexity of travel time predictions in urban environments.\n",
    "\n",
    "##### Further Identification of Outliers\n",
    "The scatterplot reveals several additional outliers that may be invalid or illogical. For instance, it is unrealistic for a trip with a distance of 3 miles to be completed in less than 2 minutes. These data points likely warrant further scrutiny and possible removal or correction."
   ]
  },
  {
   "cell_type": "code",
   "execution_count": 584,
   "metadata": {},
   "outputs": [],
   "source": [
    "# Manually removing additional invalid outliers\n",
    "yellow_taxi_df = yellow_taxi_df.loc[~((yellow_taxi_df['trip_distance'] > 2) & (yellow_taxi_df['trip_duration_in_mins'] < 3))]"
   ]
  },
  {
   "cell_type": "code",
   "execution_count": 585,
   "metadata": {},
   "outputs": [
    {
     "data": {
      "image/png": "[encoded data removed]",
      "text/plain": [
       "<Figure size 640x480 with 1 Axes>"
      ]
     },
     "metadata": {},
     "output_type": "display_data"
    }
   ],
   "source": [
    "# Take a random sample of rows (adjust as needed)\n",
    "sample_df = yellow_taxi_df.sample(n=7000, random_state=42) \n",
    "\n",
    "sns.scatterplot(x=sample_df['trip_distance'], y=sample_df['trip_duration_in_mins'])\n",
    "plt.show()"
   ]
  },
  {
   "cell_type": "markdown",
   "metadata": {},
   "source": [
    "### Building the Peak Times & Busy Days Features"
   ]
  },
  {
   "cell_type": "markdown",
   "metadata": {},
   "source": [
    "#### Peak Times (Group By Hour)"
   ]
  },
  {
   "cell_type": "markdown",
   "metadata": {},
   "source": [
    "To analyse the peak times and days, we will analyse the Pick-up Time from the 'tpep_pickup_datetime' variable, as it the number of trips started during peak times and on busy days. Otherwise, choosing Drop-off Time ('tpep_dropoff_datetime') would be inaccurate as trips may end at different times from the actual peak hours of the day."
   ]
  },
  {
   "cell_type": "code",
   "execution_count": 586,
   "metadata": {},
   "outputs": [
    {
     "data": {
      "image/png": "[encoded data removed]",
      "text/plain": [
       "<Figure size 640x480 with 1 Axes>"
      ]
     },
     "metadata": {},
     "output_type": "display_data"
    }
   ],
   "source": [
    "#Create a new column called 'hour' to extract the hour from each trip in the dataset\n",
    "yellow_taxi_df['hour'] = yellow_taxi_df['tpep_pickup_datetime'].dt.hour\n",
    "\n",
    "#Create a separate DataFrame to count the number of occurences per hour\n",
    "peak_times_df = yellow_taxi_df.groupby('hour').size()\n",
    "\n",
    "#Create a bar graph using the peak_times_df\n",
    "peak_times_df.plot(kind='bar',x='hour',y='Value')\n",
    "\n",
    "plt.xlabel('Hours')\n",
    "plt.ylabel('Total Taxi Trips')\n",
    "plt.title('Frequency of Taxi Trips by Hour')\n",
    "\n",
    "plt.show()\n"
   ]
  },
  {
   "cell_type": "markdown",
   "metadata": {},
   "source": [
    "From the graph above, we can observe that:\n",
    "\n",
    "- NYC taxi services experience a noticeable increase in activity starting at 5 am, with the most significant rise in the number of trips occurring between 6 am and 7 am. This aligns with the typical rush hour, as people begin commuting to work or school. \n",
    "\n",
    "- The peak period of the day occurs at 6 pm, which corresponds with the evening rush, when people are likely leaving work and heading home or to other activities. \n",
    "\n",
    "- Following this, there is a sharp decline in taxi trips from 6 pm to 7 pm, which indicates that the demand for taxis decreases significantly after the peak commuting hours. This suggests that the bulk of taxi usage is tied to regular work hours and commuting patterns, with a clear drop-off in demand once people are settled at home or finished with their workday."
   ]
  },
  {
   "cell_type": "markdown",
   "metadata": {},
   "source": [
    "#### Busy Days of the Week (Group by Weekdays)"
   ]
  },
  {
   "cell_type": "markdown",
   "metadata": {},
   "source": [
    "For the purpose of visualising the data for busy days, we will use the **.dt.day_name()** function. \n",
    "\n",
    "Though we can use **.dt.weekday** (returns from 0 - Monday to 6 - Saturday) for 'datetime' data types, the ML model will recognise this as continuous variable, instead of categorical. Thus, we will use one-hot-encoding for the newly created feature 'weekday' instead."
   ]
  },
  {
   "cell_type": "code",
   "execution_count": 587,
   "metadata": {},
   "outputs": [
    {
     "data": {
      "image/png": "[encoded data removed]",
      "text/plain": [
       "<Figure size 640x480 with 1 Axes>"
      ]
     },
     "metadata": {},
     "output_type": "display_data"
    }
   ],
   "source": [
    "yellow_taxi_df['weekday'] = yellow_taxi_df['tpep_pickup_datetime'].dt.day_name()  # Extract weekday first\n",
    "\n",
    "#Create a separate DataFrame to visualise the occurences of trips by weekday\n",
    "busy_days_df = yellow_taxi_df.groupby('weekday').size()  # Count occurrences per day\n",
    "\n",
    "#Sort by descending\n",
    "busy_days_sorted_df = busy_days_df.sort_values(ascending=False)\n",
    "\n",
    "#Create a bar graph\n",
    "busy_days_sorted_df.plot(kind='bar',x='day',y='Value')\n",
    "\n",
    "plt.xlabel('Day')\n",
    "plt.ylabel('Total Taxi Trips')\n",
    "plt.title('Frequency of Taxi Trips by Days')\n",
    "\n",
    "plt.show()"
   ]
  },
  {
   "cell_type": "code",
   "execution_count": 588,
   "metadata": {},
   "outputs": [
    {
     "name": "stdout",
     "output_type": "stream",
     "text": [
      "Percentage of NA values:0.0\n"
     ]
    }
   ],
   "source": [
    "print(f\"Percentage of NA values:{yellow_taxi_df['weekday'].isnull().sum() / len(yellow_taxi_df) * 100}\")"
   ]
  },
  {
   "cell_type": "markdown",
   "metadata": {},
   "source": [
    "Now that several features have been extracted from the 'tpep_pickup_datetime' and 'tpep_dropoff_datetime' variables, we will drop them for the purpose of the regression model."
   ]
  },
  {
   "cell_type": "code",
   "execution_count": 589,
   "metadata": {},
   "outputs": [],
   "source": [
    "yellow_taxi_df.drop(['tpep_pickup_datetime','tpep_dropoff_datetime'],axis=1,inplace=True)"
   ]
  },
  {
   "cell_type": "markdown",
   "metadata": {},
   "source": [
    "## Congestion Feature"
   ]
  },
  {
   "cell_type": "code",
   "execution_count": 590,
   "metadata": {},
   "outputs": [
    {
     "data": {
      "text/plain": [
       "count   2714716.00\n",
       "mean          2.63\n",
       "std           0.62\n",
       "min           0.00\n",
       "25%           2.50\n",
       "50%           2.50\n",
       "75%           2.50\n",
       "max           3.50\n",
       "Name: congestion_index, dtype: float64"
      ]
     },
     "execution_count": 590,
     "metadata": {},
     "output_type": "execute_result"
    }
   ],
   "source": [
    "yellow_taxi_df['congestion_index'] = yellow_taxi_df['extra'].apply(lambda x: 1 if x == 1 else 0) + yellow_taxi_df['congestion_surcharge']\n",
    "\n",
    "yellow_taxi_df.drop(columns=['congestion_surcharge','extra'],axis=1,inplace=True)\n",
    "\n",
    "yellow_taxi_df['congestion_index'].describe()"
   ]
  },
  {
   "cell_type": "code",
   "execution_count": 591,
   "metadata": {},
   "outputs": [
    {
     "data": {
      "text/html": [
       "<div>\n",
       "<style scoped>\n",
       "    .dataframe tbody tr th:only-of-type {\n",
       "        vertical-align: middle;\n",
       "    }\n",
       "\n",
       "    .dataframe tbody tr th {\n",
       "        vertical-align: top;\n",
       "    }\n",
       "\n",
       "    .dataframe thead th {\n",
       "        text-align: right;\n",
       "    }\n",
       "</style>\n",
       "<table border=\"1\" class=\"dataframe\">\n",
       "  <thead>\n",
       "    <tr style=\"text-align: right;\">\n",
       "      <th></th>\n",
       "      <th>trip_distance</th>\n",
       "      <th>PULocationID</th>\n",
       "      <th>DOLocationID</th>\n",
       "      <th>route_freq</th>\n",
       "      <th>trip_duration_in_mins</th>\n",
       "      <th>hour</th>\n",
       "      <th>weekday</th>\n",
       "      <th>congestion_index</th>\n",
       "    </tr>\n",
       "  </thead>\n",
       "  <tbody>\n",
       "    <tr>\n",
       "      <th>528137</th>\n",
       "      <td>1.72</td>\n",
       "      <td>229</td>\n",
       "      <td>237</td>\n",
       "      <td>4470</td>\n",
       "      <td>13.97</td>\n",
       "      <td>18</td>\n",
       "      <td>Thursday</td>\n",
       "      <td>2.50</td>\n",
       "    </tr>\n",
       "    <tr>\n",
       "      <th>2451607</th>\n",
       "      <td>3.33</td>\n",
       "      <td>186</td>\n",
       "      <td>231</td>\n",
       "      <td>2138</td>\n",
       "      <td>18.73</td>\n",
       "      <td>21</td>\n",
       "      <td>Friday</td>\n",
       "      <td>3.50</td>\n",
       "    </tr>\n",
       "    <tr>\n",
       "      <th>261012</th>\n",
       "      <td>0.66</td>\n",
       "      <td>137</td>\n",
       "      <td>107</td>\n",
       "      <td>1413</td>\n",
       "      <td>5.45</td>\n",
       "      <td>16</td>\n",
       "      <td>Tuesday</td>\n",
       "      <td>2.50</td>\n",
       "    </tr>\n",
       "    <tr>\n",
       "      <th>1751805</th>\n",
       "      <td>0.98</td>\n",
       "      <td>231</td>\n",
       "      <td>144</td>\n",
       "      <td>1195</td>\n",
       "      <td>4.73</td>\n",
       "      <td>1</td>\n",
       "      <td>Sunday</td>\n",
       "      <td>3.50</td>\n",
       "    </tr>\n",
       "    <tr>\n",
       "      <th>73831</th>\n",
       "      <td>0.65</td>\n",
       "      <td>141</td>\n",
       "      <td>237</td>\n",
       "      <td>7068</td>\n",
       "      <td>3.87</td>\n",
       "      <td>19</td>\n",
       "      <td>Sunday</td>\n",
       "      <td>2.50</td>\n",
       "    </tr>\n",
       "    <tr>\n",
       "      <th>436512</th>\n",
       "      <td>1.34</td>\n",
       "      <td>234</td>\n",
       "      <td>144</td>\n",
       "      <td>1708</td>\n",
       "      <td>6.55</td>\n",
       "      <td>23</td>\n",
       "      <td>Wednesday</td>\n",
       "      <td>3.50</td>\n",
       "    </tr>\n",
       "    <tr>\n",
       "      <th>1354968</th>\n",
       "      <td>1.50</td>\n",
       "      <td>90</td>\n",
       "      <td>246</td>\n",
       "      <td>2645</td>\n",
       "      <td>12.58</td>\n",
       "      <td>11</td>\n",
       "      <td>Thursday</td>\n",
       "      <td>2.50</td>\n",
       "    </tr>\n",
       "    <tr>\n",
       "      <th>713418</th>\n",
       "      <td>4.60</td>\n",
       "      <td>114</td>\n",
       "      <td>181</td>\n",
       "      <td>156</td>\n",
       "      <td>20.92</td>\n",
       "      <td>0</td>\n",
       "      <td>Saturday</td>\n",
       "      <td>2.50</td>\n",
       "    </tr>\n",
       "    <tr>\n",
       "      <th>997072</th>\n",
       "      <td>0.40</td>\n",
       "      <td>239</td>\n",
       "      <td>238</td>\n",
       "      <td>9723</td>\n",
       "      <td>4.28</td>\n",
       "      <td>14</td>\n",
       "      <td>Monday</td>\n",
       "      <td>2.50</td>\n",
       "    </tr>\n",
       "    <tr>\n",
       "      <th>1307202</th>\n",
       "      <td>0.20</td>\n",
       "      <td>249</td>\n",
       "      <td>90</td>\n",
       "      <td>2854</td>\n",
       "      <td>1.03</td>\n",
       "      <td>22</td>\n",
       "      <td>Wednesday</td>\n",
       "      <td>2.50</td>\n",
       "    </tr>\n",
       "  </tbody>\n",
       "</table>\n",
       "</div>"
      ],
      "text/plain": [
       "         trip_distance  PULocationID  DOLocationID  route_freq  \\\n",
       "528137            1.72           229           237        4470   \n",
       "2451607           3.33           186           231        2138   \n",
       "261012            0.66           137           107        1413   \n",
       "1751805           0.98           231           144        1195   \n",
       "73831             0.65           141           237        7068   \n",
       "436512            1.34           234           144        1708   \n",
       "1354968           1.50            90           246        2645   \n",
       "713418            4.60           114           181         156   \n",
       "997072            0.40           239           238        9723   \n",
       "1307202           0.20           249            90        2854   \n",
       "\n",
       "         trip_duration_in_mins  hour    weekday  congestion_index  \n",
       "528137                   13.97    18   Thursday              2.50  \n",
       "2451607                  18.73    21     Friday              3.50  \n",
       "261012                    5.45    16    Tuesday              2.50  \n",
       "1751805                   4.73     1     Sunday              3.50  \n",
       "73831                     3.87    19     Sunday              2.50  \n",
       "436512                    6.55    23  Wednesday              3.50  \n",
       "1354968                  12.58    11   Thursday              2.50  \n",
       "713418                   20.92     0   Saturday              2.50  \n",
       "997072                    4.28    14     Monday              2.50  \n",
       "1307202                   1.03    22  Wednesday              2.50  "
      ]
     },
     "execution_count": 591,
     "metadata": {},
     "output_type": "execute_result"
    }
   ],
   "source": [
    "yellow_taxi_df.sample(10)"
   ]
  },
  {
   "cell_type": "markdown",
   "metadata": {},
   "source": [
    "## One-hot Encoding"
   ]
  },
  {
   "cell_type": "code",
   "execution_count": 592,
   "metadata": {},
   "outputs": [
    {
     "data": {
      "text/html": [
       "<div>\n",
       "<style scoped>\n",
       "    .dataframe tbody tr th:only-of-type {\n",
       "        vertical-align: middle;\n",
       "    }\n",
       "\n",
       "    .dataframe tbody tr th {\n",
       "        vertical-align: top;\n",
       "    }\n",
       "\n",
       "    .dataframe thead th {\n",
       "        text-align: right;\n",
       "    }\n",
       "</style>\n",
       "<table border=\"1\" class=\"dataframe\">\n",
       "  <thead>\n",
       "    <tr style=\"text-align: right;\">\n",
       "      <th></th>\n",
       "      <th>trip_distance</th>\n",
       "      <th>PULocationID</th>\n",
       "      <th>DOLocationID</th>\n",
       "      <th>route_freq</th>\n",
       "      <th>trip_duration_in_mins</th>\n",
       "      <th>hour</th>\n",
       "      <th>weekday</th>\n",
       "      <th>congestion_index</th>\n",
       "      <th>weekday_Friday</th>\n",
       "      <th>weekday_Monday</th>\n",
       "      <th>weekday_Saturday</th>\n",
       "      <th>weekday_Sunday</th>\n",
       "      <th>weekday_Thursday</th>\n",
       "      <th>weekday_Tuesday</th>\n",
       "      <th>weekday_Wednesday</th>\n",
       "    </tr>\n",
       "  </thead>\n",
       "  <tbody>\n",
       "    <tr>\n",
       "      <th>2800406</th>\n",
       "      <td>3.69</td>\n",
       "      <td>230</td>\n",
       "      <td>41</td>\n",
       "      <td>489</td>\n",
       "      <td>18.80</td>\n",
       "      <td>16</td>\n",
       "      <td>Tuesday</td>\n",
       "      <td>2.50</td>\n",
       "      <td>False</td>\n",
       "      <td>False</td>\n",
       "      <td>False</td>\n",
       "      <td>False</td>\n",
       "      <td>False</td>\n",
       "      <td>True</td>\n",
       "      <td>False</td>\n",
       "    </tr>\n",
       "    <tr>\n",
       "      <th>324010</th>\n",
       "      <td>0.48</td>\n",
       "      <td>140</td>\n",
       "      <td>140</td>\n",
       "      <td>3171</td>\n",
       "      <td>2.13</td>\n",
       "      <td>7</td>\n",
       "      <td>Wednesday</td>\n",
       "      <td>2.50</td>\n",
       "      <td>False</td>\n",
       "      <td>False</td>\n",
       "      <td>False</td>\n",
       "      <td>False</td>\n",
       "      <td>False</td>\n",
       "      <td>False</td>\n",
       "      <td>True</td>\n",
       "    </tr>\n",
       "    <tr>\n",
       "      <th>454915</th>\n",
       "      <td>0.70</td>\n",
       "      <td>43</td>\n",
       "      <td>238</td>\n",
       "      <td>2297</td>\n",
       "      <td>4.13</td>\n",
       "      <td>8</td>\n",
       "      <td>Thursday</td>\n",
       "      <td>0.00</td>\n",
       "      <td>False</td>\n",
       "      <td>False</td>\n",
       "      <td>False</td>\n",
       "      <td>False</td>\n",
       "      <td>True</td>\n",
       "      <td>False</td>\n",
       "      <td>False</td>\n",
       "    </tr>\n",
       "    <tr>\n",
       "      <th>73381</th>\n",
       "      <td>1.36</td>\n",
       "      <td>158</td>\n",
       "      <td>246</td>\n",
       "      <td>1336</td>\n",
       "      <td>8.78</td>\n",
       "      <td>19</td>\n",
       "      <td>Sunday</td>\n",
       "      <td>2.50</td>\n",
       "      <td>False</td>\n",
       "      <td>False</td>\n",
       "      <td>False</td>\n",
       "      <td>True</td>\n",
       "      <td>False</td>\n",
       "      <td>False</td>\n",
       "      <td>False</td>\n",
       "    </tr>\n",
       "    <tr>\n",
       "      <th>3062153</th>\n",
       "      <td>1.25</td>\n",
       "      <td>230</td>\n",
       "      <td>237</td>\n",
       "      <td>2925</td>\n",
       "      <td>10.48</td>\n",
       "      <td>14</td>\n",
       "      <td>Saturday</td>\n",
       "      <td>2.50</td>\n",
       "      <td>False</td>\n",
       "      <td>False</td>\n",
       "      <td>True</td>\n",
       "      <td>False</td>\n",
       "      <td>False</td>\n",
       "      <td>False</td>\n",
       "      <td>False</td>\n",
       "    </tr>\n",
       "    <tr>\n",
       "      <th>2348053</th>\n",
       "      <td>2.30</td>\n",
       "      <td>107</td>\n",
       "      <td>48</td>\n",
       "      <td>758</td>\n",
       "      <td>10.63</td>\n",
       "      <td>2</td>\n",
       "      <td>Friday</td>\n",
       "      <td>2.50</td>\n",
       "      <td>True</td>\n",
       "      <td>False</td>\n",
       "      <td>False</td>\n",
       "      <td>False</td>\n",
       "      <td>False</td>\n",
       "      <td>False</td>\n",
       "      <td>False</td>\n",
       "    </tr>\n",
       "    <tr>\n",
       "      <th>2391713</th>\n",
       "      <td>2.97</td>\n",
       "      <td>237</td>\n",
       "      <td>113</td>\n",
       "      <td>1192</td>\n",
       "      <td>24.03</td>\n",
       "      <td>14</td>\n",
       "      <td>Friday</td>\n",
       "      <td>2.50</td>\n",
       "      <td>True</td>\n",
       "      <td>False</td>\n",
       "      <td>False</td>\n",
       "      <td>False</td>\n",
       "      <td>False</td>\n",
       "      <td>False</td>\n",
       "      <td>False</td>\n",
       "    </tr>\n",
       "    <tr>\n",
       "      <th>360681</th>\n",
       "      <td>3.00</td>\n",
       "      <td>48</td>\n",
       "      <td>236</td>\n",
       "      <td>1605</td>\n",
       "      <td>22.67</td>\n",
       "      <td>13</td>\n",
       "      <td>Wednesday</td>\n",
       "      <td>2.50</td>\n",
       "      <td>False</td>\n",
       "      <td>False</td>\n",
       "      <td>False</td>\n",
       "      <td>False</td>\n",
       "      <td>False</td>\n",
       "      <td>False</td>\n",
       "      <td>True</td>\n",
       "    </tr>\n",
       "    <tr>\n",
       "      <th>1798039</th>\n",
       "      <td>1.61</td>\n",
       "      <td>143</td>\n",
       "      <td>230</td>\n",
       "      <td>1059</td>\n",
       "      <td>12.12</td>\n",
       "      <td>13</td>\n",
       "      <td>Sunday</td>\n",
       "      <td>2.50</td>\n",
       "      <td>False</td>\n",
       "      <td>False</td>\n",
       "      <td>False</td>\n",
       "      <td>True</td>\n",
       "      <td>False</td>\n",
       "      <td>False</td>\n",
       "      <td>False</td>\n",
       "    </tr>\n",
       "    <tr>\n",
       "      <th>1236246</th>\n",
       "      <td>1.09</td>\n",
       "      <td>229</td>\n",
       "      <td>263</td>\n",
       "      <td>2440</td>\n",
       "      <td>15.12</td>\n",
       "      <td>13</td>\n",
       "      <td>Wednesday</td>\n",
       "      <td>2.50</td>\n",
       "      <td>False</td>\n",
       "      <td>False</td>\n",
       "      <td>False</td>\n",
       "      <td>False</td>\n",
       "      <td>False</td>\n",
       "      <td>False</td>\n",
       "      <td>True</td>\n",
       "    </tr>\n",
       "  </tbody>\n",
       "</table>\n",
       "</div>"
      ],
      "text/plain": [
       "         trip_distance  PULocationID  DOLocationID  route_freq  \\\n",
       "2800406           3.69           230            41         489   \n",
       "324010            0.48           140           140        3171   \n",
       "454915            0.70            43           238        2297   \n",
       "73381             1.36           158           246        1336   \n",
       "3062153           1.25           230           237        2925   \n",
       "2348053           2.30           107            48         758   \n",
       "2391713           2.97           237           113        1192   \n",
       "360681            3.00            48           236        1605   \n",
       "1798039           1.61           143           230        1059   \n",
       "1236246           1.09           229           263        2440   \n",
       "\n",
       "         trip_duration_in_mins  hour    weekday  congestion_index  \\\n",
       "2800406                  18.80    16    Tuesday              2.50   \n",
       "324010                    2.13     7  Wednesday              2.50   \n",
       "454915                    4.13     8   Thursday              0.00   \n",
       "73381                     8.78    19     Sunday              2.50   \n",
       "3062153                  10.48    14   Saturday              2.50   \n",
       "2348053                  10.63     2     Friday              2.50   \n",
       "2391713                  24.03    14     Friday              2.50   \n",
       "360681                   22.67    13  Wednesday              2.50   \n",
       "1798039                  12.12    13     Sunday              2.50   \n",
       "1236246                  15.12    13  Wednesday              2.50   \n",
       "\n",
       "         weekday_Friday  weekday_Monday  weekday_Saturday  weekday_Sunday  \\\n",
       "2800406           False           False             False           False   \n",
       "324010            False           False             False           False   \n",
       "454915            False           False             False           False   \n",
       "73381             False           False             False            True   \n",
       "3062153           False           False              True           False   \n",
       "2348053            True           False             False           False   \n",
       "2391713            True           False             False           False   \n",
       "360681            False           False             False           False   \n",
       "1798039           False           False             False            True   \n",
       "1236246           False           False             False           False   \n",
       "\n",
       "         weekday_Thursday  weekday_Tuesday  weekday_Wednesday  \n",
       "2800406             False             True              False  \n",
       "324010              False            False               True  \n",
       "454915               True            False              False  \n",
       "73381               False            False              False  \n",
       "3062153             False            False              False  \n",
       "2348053             False            False              False  \n",
       "2391713             False            False              False  \n",
       "360681              False            False               True  \n",
       "1798039             False            False              False  \n",
       "1236246             False            False               True  "
      ]
     },
     "execution_count": 592,
     "metadata": {},
     "output_type": "execute_result"
    }
   ],
   "source": [
    "# Create dummy variables for the 'weekday' column\n",
    "encoded_df = pd.get_dummies(yellow_taxi_df['weekday'], prefix='weekday')\n",
    "\n",
    "# Join the encoded columns with the original DataFrame\n",
    "yellow_taxi_df = yellow_taxi_df.join(encoded_df)\n",
    "\n",
    "# Display the final DataFrame\n",
    "yellow_taxi_df.sample(10)"
   ]
  },
  {
   "cell_type": "code",
   "execution_count": 593,
   "metadata": {},
   "outputs": [],
   "source": [
    "yellow_taxi_df.drop(columns='weekday',inplace=True)"
   ]
  },
  {
   "cell_type": "markdown",
   "metadata": {},
   "source": [
    "## Cosine Encoding\n",
    "\n",
    "Since the 'hour' feature is cyclical in nature, cosine encoding should be applied. Without this step, the cyclical relationship between hours will not be captured, as these numbers (hours) do not inherently represent the cyclic nature of the day."
   ]
  },
  {
   "cell_type": "code",
   "execution_count": 594,
   "metadata": {},
   "outputs": [],
   "source": [
    "yellow_taxi_df['hour_cos'] = np.cos(2 * np.pi * yellow_taxi_df['hour'] / 24)\n",
    "\n",
    "yellow_taxi_df.drop(['hour'],axis=1,inplace=True)"
   ]
  },
  {
   "cell_type": "code",
   "execution_count": 595,
   "metadata": {},
   "outputs": [
    {
     "data": {
      "text/html": [
       "<div>\n",
       "<style scoped>\n",
       "    .dataframe tbody tr th:only-of-type {\n",
       "        vertical-align: middle;\n",
       "    }\n",
       "\n",
       "    .dataframe tbody tr th {\n",
       "        vertical-align: top;\n",
       "    }\n",
       "\n",
       "    .dataframe thead th {\n",
       "        text-align: right;\n",
       "    }\n",
       "</style>\n",
       "<table border=\"1\" class=\"dataframe\">\n",
       "  <thead>\n",
       "    <tr style=\"text-align: right;\">\n",
       "      <th></th>\n",
       "      <th>trip_distance</th>\n",
       "      <th>PULocationID</th>\n",
       "      <th>DOLocationID</th>\n",
       "      <th>route_freq</th>\n",
       "      <th>trip_duration_in_mins</th>\n",
       "      <th>congestion_index</th>\n",
       "      <th>weekday_Friday</th>\n",
       "      <th>weekday_Monday</th>\n",
       "      <th>weekday_Saturday</th>\n",
       "      <th>weekday_Sunday</th>\n",
       "      <th>weekday_Thursday</th>\n",
       "      <th>weekday_Tuesday</th>\n",
       "      <th>weekday_Wednesday</th>\n",
       "      <th>hour_cos</th>\n",
       "    </tr>\n",
       "  </thead>\n",
       "  <tbody>\n",
       "    <tr>\n",
       "      <th>2613436</th>\n",
       "      <td>4.3900</td>\n",
       "      <td>87</td>\n",
       "      <td>170</td>\n",
       "      <td>409</td>\n",
       "      <td>17.1667</td>\n",
       "      <td>2.5000</td>\n",
       "      <td>False</td>\n",
       "      <td>False</td>\n",
       "      <td>False</td>\n",
       "      <td>True</td>\n",
       "      <td>False</td>\n",
       "      <td>False</td>\n",
       "      <td>False</td>\n",
       "      <td>-0.9659</td>\n",
       "    </tr>\n",
       "    <tr>\n",
       "      <th>2966882</th>\n",
       "      <td>1.5700</td>\n",
       "      <td>161</td>\n",
       "      <td>229</td>\n",
       "      <td>3856</td>\n",
       "      <td>10.3667</td>\n",
       "      <td>2.5000</td>\n",
       "      <td>True</td>\n",
       "      <td>False</td>\n",
       "      <td>False</td>\n",
       "      <td>False</td>\n",
       "      <td>False</td>\n",
       "      <td>False</td>\n",
       "      <td>False</td>\n",
       "      <td>-1.0000</td>\n",
       "    </tr>\n",
       "    <tr>\n",
       "      <th>86454</th>\n",
       "      <td>1.2500</td>\n",
       "      <td>161</td>\n",
       "      <td>230</td>\n",
       "      <td>4505</td>\n",
       "      <td>12.7000</td>\n",
       "      <td>3.5000</td>\n",
       "      <td>False</td>\n",
       "      <td>False</td>\n",
       "      <td>False</td>\n",
       "      <td>True</td>\n",
       "      <td>False</td>\n",
       "      <td>False</td>\n",
       "      <td>False</td>\n",
       "      <td>0.8660</td>\n",
       "    </tr>\n",
       "    <tr>\n",
       "      <th>582655</th>\n",
       "      <td>0.6500</td>\n",
       "      <td>100</td>\n",
       "      <td>48</td>\n",
       "      <td>1725</td>\n",
       "      <td>5.2000</td>\n",
       "      <td>3.5000</td>\n",
       "      <td>True</td>\n",
       "      <td>False</td>\n",
       "      <td>False</td>\n",
       "      <td>False</td>\n",
       "      <td>False</td>\n",
       "      <td>False</td>\n",
       "      <td>False</td>\n",
       "      <td>1.0000</td>\n",
       "    </tr>\n",
       "    <tr>\n",
       "      <th>1750493</th>\n",
       "      <td>2.8000</td>\n",
       "      <td>141</td>\n",
       "      <td>74</td>\n",
       "      <td>756</td>\n",
       "      <td>9.6167</td>\n",
       "      <td>2.5000</td>\n",
       "      <td>False</td>\n",
       "      <td>False</td>\n",
       "      <td>False</td>\n",
       "      <td>True</td>\n",
       "      <td>False</td>\n",
       "      <td>False</td>\n",
       "      <td>False</td>\n",
       "      <td>1.0000</td>\n",
       "    </tr>\n",
       "    <tr>\n",
       "      <th>2833417</th>\n",
       "      <td>0.9000</td>\n",
       "      <td>239</td>\n",
       "      <td>142</td>\n",
       "      <td>9854</td>\n",
       "      <td>4.4667</td>\n",
       "      <td>2.5000</td>\n",
       "      <td>False</td>\n",
       "      <td>False</td>\n",
       "      <td>False</td>\n",
       "      <td>False</td>\n",
       "      <td>False</td>\n",
       "      <td>False</td>\n",
       "      <td>True</td>\n",
       "      <td>-0.7071</td>\n",
       "    </tr>\n",
       "    <tr>\n",
       "      <th>2202143</th>\n",
       "      <td>1.4400</td>\n",
       "      <td>234</td>\n",
       "      <td>113</td>\n",
       "      <td>2893</td>\n",
       "      <td>5.3667</td>\n",
       "      <td>3.5000</td>\n",
       "      <td>False</td>\n",
       "      <td>False</td>\n",
       "      <td>False</td>\n",
       "      <td>False</td>\n",
       "      <td>False</td>\n",
       "      <td>False</td>\n",
       "      <td>True</td>\n",
       "      <td>0.8660</td>\n",
       "    </tr>\n",
       "    <tr>\n",
       "      <th>2710215</th>\n",
       "      <td>3.2300</td>\n",
       "      <td>107</td>\n",
       "      <td>236</td>\n",
       "      <td>1227</td>\n",
       "      <td>27.8833</td>\n",
       "      <td>2.5000</td>\n",
       "      <td>False</td>\n",
       "      <td>True</td>\n",
       "      <td>False</td>\n",
       "      <td>False</td>\n",
       "      <td>False</td>\n",
       "      <td>False</td>\n",
       "      <td>False</td>\n",
       "      <td>-0.8660</td>\n",
       "    </tr>\n",
       "    <tr>\n",
       "      <th>1705180</th>\n",
       "      <td>1.9900</td>\n",
       "      <td>239</td>\n",
       "      <td>41</td>\n",
       "      <td>918</td>\n",
       "      <td>11.1333</td>\n",
       "      <td>2.5000</td>\n",
       "      <td>False</td>\n",
       "      <td>False</td>\n",
       "      <td>True</td>\n",
       "      <td>False</td>\n",
       "      <td>False</td>\n",
       "      <td>False</td>\n",
       "      <td>False</td>\n",
       "      <td>0.2588</td>\n",
       "    </tr>\n",
       "    <tr>\n",
       "      <th>3159329</th>\n",
       "      <td>1.4900</td>\n",
       "      <td>249</td>\n",
       "      <td>107</td>\n",
       "      <td>2316</td>\n",
       "      <td>12.1000</td>\n",
       "      <td>2.5000</td>\n",
       "      <td>False</td>\n",
       "      <td>False</td>\n",
       "      <td>False</td>\n",
       "      <td>True</td>\n",
       "      <td>False</td>\n",
       "      <td>False</td>\n",
       "      <td>False</td>\n",
       "      <td>-0.2588</td>\n",
       "    </tr>\n",
       "  </tbody>\n",
       "</table>\n",
       "</div>"
      ],
      "text/plain": [
       "         trip_distance  PULocationID  DOLocationID  route_freq  \\\n",
       "2613436         4.3900            87           170         409   \n",
       "2966882         1.5700           161           229        3856   \n",
       "86454           1.2500           161           230        4505   \n",
       "582655          0.6500           100            48        1725   \n",
       "1750493         2.8000           141            74         756   \n",
       "2833417         0.9000           239           142        9854   \n",
       "2202143         1.4400           234           113        2893   \n",
       "2710215         3.2300           107           236        1227   \n",
       "1705180         1.9900           239            41         918   \n",
       "3159329         1.4900           249           107        2316   \n",
       "\n",
       "         trip_duration_in_mins  congestion_index  weekday_Friday  \\\n",
       "2613436                17.1667            2.5000           False   \n",
       "2966882                10.3667            2.5000            True   \n",
       "86454                  12.7000            3.5000           False   \n",
       "582655                  5.2000            3.5000            True   \n",
       "1750493                 9.6167            2.5000           False   \n",
       "2833417                 4.4667            2.5000           False   \n",
       "2202143                 5.3667            3.5000           False   \n",
       "2710215                27.8833            2.5000           False   \n",
       "1705180                11.1333            2.5000           False   \n",
       "3159329                12.1000            2.5000           False   \n",
       "\n",
       "         weekday_Monday  weekday_Saturday  weekday_Sunday  weekday_Thursday  \\\n",
       "2613436           False             False            True             False   \n",
       "2966882           False             False           False             False   \n",
       "86454             False             False            True             False   \n",
       "582655            False             False           False             False   \n",
       "1750493           False             False            True             False   \n",
       "2833417           False             False           False             False   \n",
       "2202143           False             False           False             False   \n",
       "2710215            True             False           False             False   \n",
       "1705180           False              True           False             False   \n",
       "3159329           False             False            True             False   \n",
       "\n",
       "         weekday_Tuesday  weekday_Wednesday  hour_cos  \n",
       "2613436            False              False   -0.9659  \n",
       "2966882            False              False   -1.0000  \n",
       "86454              False              False    0.8660  \n",
       "582655             False              False    1.0000  \n",
       "1750493            False              False    1.0000  \n",
       "2833417            False               True   -0.7071  \n",
       "2202143            False               True    0.8660  \n",
       "2710215            False              False   -0.8660  \n",
       "1705180            False              False    0.2588  \n",
       "3159329            False              False   -0.2588  "
      ]
     },
     "execution_count": 595,
     "metadata": {},
     "output_type": "execute_result"
    }
   ],
   "source": [
    "pd.options.display.float_format = '{:.4f}'.format\n",
    "\n",
    "yellow_taxi_df.sample(10)"
   ]
  },
  {
   "cell_type": "markdown",
   "metadata": {},
   "source": [
    "# Adding Weather & Traffic Flow Feature"
   ]
  },
  {
   "cell_type": "markdown",
   "metadata": {},
   "source": [
    "## OpenWeather API\n",
    "\n",
    "Since all trips took place within New York City, we will collect weather data based only on the date and time of each trip. The latitude and longitude will remain constant for all trips, representing New York City."
   ]
  },
  {
   "cell_type": "code",
   "execution_count": 602,
   "metadata": {},
   "outputs": [
    {
     "name": "stdout",
     "output_type": "stream",
     "text": [
      "Defaulting to user installation because normal site-packages is not writeable\n",
      "Requirement already satisfied: requests in /Users/ikmalbasirun/Library/Python/3.9/lib/python/site-packages (2.32.3)\n",
      "Requirement already satisfied: charset-normalizer<4,>=2 in /Users/ikmalbasirun/Library/Python/3.9/lib/python/site-packages (from requests) (3.4.1)\n",
      "Requirement already satisfied: idna<4,>=2.5 in /Users/ikmalbasirun/Library/Python/3.9/lib/python/site-packages (from requests) (3.10)\n",
      "Requirement already satisfied: urllib3<3,>=1.21.1 in /Users/ikmalbasirun/Library/Python/3.9/lib/python/site-packages (from requests) (2.3.0)\n",
      "Requirement already satisfied: certifi>=2017.4.17 in /Users/ikmalbasirun/Library/Python/3.9/lib/python/site-packages (from requests) (2025.1.31)\n",
      "Note: you may need to restart the kernel to use updated packages.\n"
     ]
    }
   ],
   "source": [
    "%pip install requests"
   ]
  },
  {
   "cell_type": "code",
   "execution_count": 606,
   "metadata": {},
   "outputs": [
    {
     "name": "stdout",
     "output_type": "stream",
     "text": [
      "{'code': 500000, 'message': 'Error'}\n"
     ]
    }
   ],
   "source": [
    "import requests\n",
    "\n",
    "# API Key (replace with your actual key)\n",
    "api_key = \"cd53ef4777d7fc3564278266ed948928\"\n",
    "\n",
    "# NYC Latitude & Longitude\n",
    "lat, lon = 40.7128, -74.0060\n",
    "\n",
    "start = yellow_taxi_df['tpep_pickup_datetime'][0].time()\n",
    "\n",
    "# Example: Get weather for a specific timestamp (UNIX format)\n",
    "url = f\"https://history.openweathermap.org/data/2.5/history/city?lat={lat}&lon={lon}&type=hour&start={start}&appid={api_key}\"\n",
    "\n",
    "# Make API Request\n",
    "response = requests.get(url)\n",
    "data = response.json()\n",
    "\n",
    "# Print Weather Data\n",
    "print(data)"
   ]
  },
  {
   "cell_type": "markdown",
   "metadata": {},
   "source": [
    "# Correlation Matrix"
   ]
  },
  {
   "cell_type": "code",
   "execution_count": 471,
   "metadata": {},
   "outputs": [
    {
     "data": {
      "text/plain": [
       "<Axes: >"
      ]
     },
     "execution_count": 471,
     "metadata": {},
     "output_type": "execute_result"
    },
    {
     "data": {
      "image/png": "[encoded data removed]",
      "text/plain": [
       "<Figure size 1400x800 with 2 Axes>"
      ]
     },
     "metadata": {},
     "output_type": "display_data"
    }
   ],
   "source": [
    "correlation = yellow_taxi_df.corr()\n",
    "\n",
    "plt.figure(figsize=(14, 8))\n",
    "sns.heatmap(correlation, xticklabels=yellow_taxi_df.columns, yticklabels=yellow_taxi_df.columns, annot=True)"
   ]
  },
  {
   "cell_type": "markdown",
   "metadata": {},
   "source": [
    "# Building the Prediction Model & Performance Test\n",
    "\n",
    "## Train-Test-Split"
   ]
  },
  {
   "cell_type": "code",
   "execution_count": null,
   "metadata": {},
   "outputs": [],
   "source": [
    "yellow_taxi_df.drop(columns=['congestion_index','hour_cos','PULocationID','DOLocationID'], inplace=True)"
   ]
  },
  {
   "cell_type": "code",
   "execution_count": 473,
   "metadata": {},
   "outputs": [],
   "source": [
    "# define the training set ([x_train,y_train] pairs) where indepedent and dependent variables listed above:\n",
    "\n",
    "x = yellow_taxi_df.drop(columns='trip_duration_in_mins',axis=1) #all columns except trip_duration_in)mins\n",
    "y = yellow_taxi_df['trip_duration_in_mins']\n",
    "\n",
    "X_train, X_test, Y_train, Y_test = train_test_split(x, y, test_size = 0.3, random_state=42)\n",
    "\n",
    "# reshape(-1,1) y_train (this is not necessary for x_train, since it's multi-Dimensional now):\n",
    "X_train = X_train.to_numpy()\n",
    "Y_train = Y_train.to_numpy()\n",
    "\n",
    "# define the test set ([x_test,y_test] pairs) where indepedent and dependent variables listed above:\n",
    "X_test = X_test.to_numpy()\n",
    "Y_test = Y_test.to_numpy()"
   ]
  },
  {
   "cell_type": "markdown",
   "metadata": {},
   "source": [
    "## Simple Linear Regression"
   ]
  },
  {
   "cell_type": "code",
   "execution_count": 474,
   "metadata": {},
   "outputs": [
    {
     "name": "stdout",
     "output_type": "stream",
     "text": [
      "RMSE_multireg:  34.09762860728341\n",
      "AdjR2_multi_reg:  0.4221652660235272\n"
     ]
    }
   ],
   "source": [
    "# define a LinearRegression model and train (i.e. fit) the model using training set:\n",
    "linear_model = LinearRegression()\n",
    "linear_model.fit(X_train, Y_train)\n",
    "\n",
    "# We will now assess the model performance with the test set.\n",
    "# first, predict the price for test set using the model trained above:\n",
    "Y_pred = linear_model.predict(X_test)\n",
    "\n",
    "# Find the RMSE for the test set:\n",
    "RMSE_multireg = metrics.mean_squared_error(Y_test, Y_pred)\n",
    "print(\"RMSE_multireg: \", RMSE_multireg)\n",
    "\n",
    "# Calculate R^2 score for the test set\n",
    "R2 = metrics.r2_score(Y_test, Y_pred)\n",
    "\n",
    "# Calculate Adjusted R^2\n",
    "n = len(Y_test)  # number of observations\n",
    "p = X_test.shape[1]  # number of features (predictors)\n",
    "AdjR2_multi_reg = 1 - (1 - R2) * (n - 1) / (n - p - 1)\n",
    "print(\"AdjR2_multi_reg: \", AdjR2_multi_reg)"
   ]
  },
  {
   "cell_type": "markdown",
   "metadata": {},
   "source": [
    "## Random Forest Regression"
   ]
  },
  {
   "cell_type": "markdown",
   "metadata": {},
   "source": [
    "### Hyperparameter Tuning\n",
    "\n",
    "Since the dataset is slightly large (3M rows), it might be better to sample the training set, instead of using all of the data for hyperparameter optimisation."
   ]
  },
  {
   "cell_type": "code",
   "execution_count": 475,
   "metadata": {},
   "outputs": [
    {
     "name": "stdout",
     "output_type": "stream",
     "text": [
      "Best Parameters: {'max_depth': 16, 'n_estimators': 50}\n",
      "Best CV Score: 0.5125050094940152\n"
     ]
    }
   ],
   "source": [
    "# sampling 10% of dataset for hyperparameter tuning\n",
    "X_train_sample, _ , Y_train_sample, _ = train_test_split(X_train, Y_train, test_size=0.9, random_state=42)\n",
    "\n",
    "# Hyperparameters to test\n",
    "param_dist = {\n",
    "    'n_estimators': [50, 100, 200],\n",
    "    'max_depth': randint(3, 20)  # Random sampling between 3 and 20\n",
    "}\n",
    "\n",
    "# Initialise the model\n",
    "reg_model = RandomForestRegressor(random_state=42)\n",
    "\n",
    "# Perform GridSearch with CV k-Fold for Regression\n",
    "grid_search = RandomizedSearchCV(\n",
    "    estimator=reg_model,\n",
    "    param_distributions=param_dist,\n",
    "    n_iter=10,\n",
    "    cv=3,\n",
    "    scoring='r2',\n",
    "    n_jobs=-1\n",
    ")\n",
    "\n",
    "# Fit the model to the training data\n",
    "grid_search.fit(X_train_sample, Y_train_sample)\n",
    "\n",
    "# Obtain the best parameter and score\n",
    "best_params = grid_search.best_params_\n",
    "best_score = grid_search.best_score_\n",
    "\n",
    "print(\"Best Parameters:\", best_params)\n",
    "print(\"Best CV Score:\", best_score)"
   ]
  },
  {
   "cell_type": "markdown",
   "metadata": {},
   "source": [
    "### Training and Testing"
   ]
  },
  {
   "cell_type": "code",
   "execution_count": 476,
   "metadata": {},
   "outputs": [],
   "source": [
    "# Initialise Random Forest Classifier\n",
    "reg_model = RandomForestRegressor(n_estimators=best_params['n_estimators'], max_depth=best_params['max_depth'],random_state=42, n_jobs=-1)\n",
    "\n",
    "# Train the model\n",
    "reg_model.fit(X_train, Y_train)\n",
    "\n",
    "# Make predictions on the test data\n",
    "reg_Y_pred = reg_model.predict(X_test)"
   ]
  },
  {
   "cell_type": "markdown",
   "metadata": {},
   "source": [
    "### Performance Metrics"
   ]
  },
  {
   "cell_type": "code",
   "execution_count": 477,
   "metadata": {},
   "outputs": [
    {
     "name": "stdout",
     "output_type": "stream",
     "text": [
      "RMSE: 26.9848\n",
      "AdjR2_multi_reg:  0.542702967188081\n"
     ]
    }
   ],
   "source": [
    "# R^2 Score\n",
    "print(f'RMSE: {metrics.mean_squared_error(Y_test, reg_Y_pred):.4f}')\n",
    "\n",
    "# Calculate R^2 score for the test set\n",
    "R2 = metrics.r2_score(Y_test, reg_Y_pred)\n",
    "\n",
    "# Calculate Adjusted R^2\n",
    "n = len(Y_test)  # number of observations\n",
    "p = X_test.shape[1]  # number of features (predictors)\n",
    "AdjR2_multi_reg = 1 - (1 - R2) * (n - 1) / (n - p - 1)\n",
    "print(\"AdjR2_multi_reg: \", AdjR2_multi_reg)"
   ]
  },
  {
   "cell_type": "markdown",
   "metadata": {},
   "source": [
    "There's a **15.5%** increase in the model performance of Random Forest Regression with Hyperparameter Optimisation, as compared to the Simple Regression model done previously."
   ]
  },
  {
   "cell_type": "markdown",
   "metadata": {},
   "source": [
    "## XGBoost"
   ]
  },
  {
   "cell_type": "markdown",
   "metadata": {},
   "source": [
    "Installing XGBoost"
   ]
  },
  {
   "cell_type": "code",
   "execution_count": 187,
   "metadata": {},
   "outputs": [
    {
     "name": "stdout",
     "output_type": "stream",
     "text": [
      "Defaulting to user installation because normal site-packages is not writeable\n",
      "Requirement already satisfied: xgboost in /Users/ikmalbasirun/Library/Python/3.9/lib/python/site-packages (2.1.4)\n",
      "Requirement already satisfied: numpy in /Users/ikmalbasirun/Library/Python/3.9/lib/python/site-packages (from xgboost) (2.0.2)\n",
      "Requirement already satisfied: scipy in /Users/ikmalbasirun/Library/Python/3.9/lib/python/site-packages (from xgboost) (1.13.1)\n",
      "Note: you may need to restart the kernel to use updated packages.\n"
     ]
    }
   ],
   "source": [
    "%pip install xgboost"
   ]
  },
  {
   "cell_type": "markdown",
   "metadata": {},
   "source": [
    "Importing XGBoost"
   ]
  },
  {
   "cell_type": "code",
   "execution_count": 478,
   "metadata": {},
   "outputs": [],
   "source": [
    "import xgboost as xgb"
   ]
  },
  {
   "cell_type": "markdown",
   "metadata": {},
   "source": [
    "### Hyperparameter Tuning"
   ]
  },
  {
   "cell_type": "code",
   "execution_count": 479,
   "metadata": {},
   "outputs": [
    {
     "name": "stdout",
     "output_type": "stream",
     "text": [
      "Best Parameters: {'learning_rate': 0.2, 'max_depth': 5, 'n_estimators': 300}\n",
      "Best R^2 from CV: 0.5249\n"
     ]
    }
   ],
   "source": [
    "param_grid = {\n",
    "    'n_estimators':[50,100,200,300],\n",
    "    'max_depth':[3,5,7,9,11],\n",
    "    'learning_rate': [0.01,0.1,0.2],\n",
    "}\n",
    "\n",
    "xgb_model = xgb.XGBRegressor()\n",
    "\n",
    "grid_search = GridSearchCV(xgb_model, param_grid, cv=5, scoring='r2', n_jobs=-1)\n",
    "grid_search.fit(X_train_sample, Y_train_sample)\n",
    "\n",
    "best_params_xgb = grid_search.best_params_\n",
    "best_score_xgb = grid_search.best_score_\n",
    "\n",
    "print(\"Best Parameters:\", best_params_xgb)\n",
    "print(f\"Best R^2 from CV: {best_score_xgb:.4f}\")"
   ]
  },
  {
   "cell_type": "markdown",
   "metadata": {},
   "source": [
    "### Training & Testing"
   ]
  },
  {
   "cell_type": "code",
   "execution_count": 480,
   "metadata": {},
   "outputs": [],
   "source": [
    "xgb_model = xgb.XGBRegressor(n_estimators=best_params_xgb['n_estimators'],learning_rate=best_params_xgb['learning_rate'],max_depth=best_params_xgb['max_depth'],random_state=42)\n",
    "\n",
    "xgb_model.fit(X_train, Y_train)\n",
    "\n",
    "xgb_y_pred = xgb_model.predict(X_test)"
   ]
  },
  {
   "cell_type": "markdown",
   "metadata": {},
   "source": [
    "### Performance Metrics"
   ]
  },
  {
   "cell_type": "code",
   "execution_count": 481,
   "metadata": {},
   "outputs": [
    {
     "name": "stdout",
     "output_type": "stream",
     "text": [
      "Mean Squared Error: 27.8170\n",
      "AdjR2_multi_reg: 0.5286\n"
     ]
    }
   ],
   "source": [
    "print(f\"Mean Squared Error: {metrics.mean_squared_error(Y_test, xgb_y_pred):.4f}\")\n",
    "\n",
    "# Calculate R^2 score for the test set\n",
    "R2 = metrics.r2_score(Y_test, xgb_y_pred)\n",
    "\n",
    "# Calculate Adjusted R^2\n",
    "n = len(Y_test)  # number of observations\n",
    "p = X_test.shape[1]  # number of features (predictors)\n",
    "AdjR2_multi_reg = 1 - (1 - R2) * (n - 1) / (n - p - 1)\n",
    "print(f\"AdjR2_multi_reg: {AdjR2_multi_reg:.4f}\")"
   ]
  },
  {
   "cell_type": "markdown",
   "metadata": {},
   "source": [
    "The model performance increased by **0.6%** using XGBoost, when compared to Random Forest.\n",
    "\n",
    "Overall, it increased by 16.1% with XGBoost compared to the baseline model."
   ]
  },
  {
   "cell_type": "code",
   "execution_count": 482,
   "metadata": {},
   "outputs": [
    {
     "data": {
      "image/png": "[encoded data removed]",
      "text/plain": [
       "<Figure size 640x480 with 1 Axes>"
      ]
     },
     "metadata": {},
     "output_type": "display_data"
    }
   ],
   "source": [
    "plt.scatter(Y_test, xgb_y_pred, alpha=0.5)\n",
    "plt.plot([min(Y_test), max(Y_test)], [min(Y_test), max(Y_test)], 'r', lw=2)  # 45-degree line\n",
    "plt.xlabel(\"Actual Values\")\n",
    "plt.ylabel(\"Predicted Values\")\n",
    "plt.title(\"Predicted vs Actual\")\n",
    "plt.show()"
   ]
  },
  {
   "cell_type": "markdown",
   "metadata": {},
   "source": [
    "## Deep Learning Neural Network"
   ]
  },
  {
   "cell_type": "markdown",
   "metadata": {},
   "source": [
    "### Re-creating Route feature & Encoding"
   ]
  },
  {
   "cell_type": "code",
   "execution_count": 596,
   "metadata": {},
   "outputs": [],
   "source": [
    "yellow_taxi_df.drop(columns='route_freq',inplace=True)"
   ]
  },
  {
   "cell_type": "code",
   "execution_count": 597,
   "metadata": {},
   "outputs": [
    {
     "data": {
      "text/html": [
       "<div>\n",
       "<style scoped>\n",
       "    .dataframe tbody tr th:only-of-type {\n",
       "        vertical-align: middle;\n",
       "    }\n",
       "\n",
       "    .dataframe tbody tr th {\n",
       "        vertical-align: top;\n",
       "    }\n",
       "\n",
       "    .dataframe thead th {\n",
       "        text-align: right;\n",
       "    }\n",
       "</style>\n",
       "<table border=\"1\" class=\"dataframe\">\n",
       "  <thead>\n",
       "    <tr style=\"text-align: right;\">\n",
       "      <th></th>\n",
       "      <th>trip_distance</th>\n",
       "      <th>PULocationID</th>\n",
       "      <th>DOLocationID</th>\n",
       "      <th>trip_duration_in_mins</th>\n",
       "      <th>congestion_index</th>\n",
       "      <th>weekday_Friday</th>\n",
       "      <th>weekday_Monday</th>\n",
       "      <th>weekday_Saturday</th>\n",
       "      <th>weekday_Sunday</th>\n",
       "      <th>weekday_Thursday</th>\n",
       "      <th>weekday_Tuesday</th>\n",
       "      <th>weekday_Wednesday</th>\n",
       "      <th>hour_cos</th>\n",
       "      <th>route</th>\n",
       "    </tr>\n",
       "  </thead>\n",
       "  <tbody>\n",
       "    <tr>\n",
       "      <th>1655633</th>\n",
       "      <td>3.5900</td>\n",
       "      <td>88</td>\n",
       "      <td>144</td>\n",
       "      <td>18.6333</td>\n",
       "      <td>2.5000</td>\n",
       "      <td>False</td>\n",
       "      <td>False</td>\n",
       "      <td>True</td>\n",
       "      <td>False</td>\n",
       "      <td>False</td>\n",
       "      <td>False</td>\n",
       "      <td>False</td>\n",
       "      <td>-0.9659</td>\n",
       "      <td>88-144</td>\n",
       "    </tr>\n",
       "    <tr>\n",
       "      <th>2191516</th>\n",
       "      <td>0.9600</td>\n",
       "      <td>164</td>\n",
       "      <td>90</td>\n",
       "      <td>6.0167</td>\n",
       "      <td>3.5000</td>\n",
       "      <td>False</td>\n",
       "      <td>False</td>\n",
       "      <td>False</td>\n",
       "      <td>False</td>\n",
       "      <td>False</td>\n",
       "      <td>False</td>\n",
       "      <td>True</td>\n",
       "      <td>0.7071</td>\n",
       "      <td>164-90</td>\n",
       "    </tr>\n",
       "    <tr>\n",
       "      <th>3316794</th>\n",
       "      <td>2.8800</td>\n",
       "      <td>161</td>\n",
       "      <td>263</td>\n",
       "      <td>16.5500</td>\n",
       "      <td>2.5000</td>\n",
       "      <td>False</td>\n",
       "      <td>False</td>\n",
       "      <td>False</td>\n",
       "      <td>False</td>\n",
       "      <td>False</td>\n",
       "      <td>True</td>\n",
       "      <td>False</td>\n",
       "      <td>-0.0000</td>\n",
       "      <td>161-263</td>\n",
       "    </tr>\n",
       "    <tr>\n",
       "      <th>2339570</th>\n",
       "      <td>0.8200</td>\n",
       "      <td>230</td>\n",
       "      <td>161</td>\n",
       "      <td>8.9500</td>\n",
       "      <td>3.5000</td>\n",
       "      <td>False</td>\n",
       "      <td>False</td>\n",
       "      <td>False</td>\n",
       "      <td>False</td>\n",
       "      <td>True</td>\n",
       "      <td>False</td>\n",
       "      <td>False</td>\n",
       "      <td>0.9659</td>\n",
       "      <td>230-161</td>\n",
       "    </tr>\n",
       "    <tr>\n",
       "      <th>2208087</th>\n",
       "      <td>0.5600</td>\n",
       "      <td>261</td>\n",
       "      <td>231</td>\n",
       "      <td>3.1333</td>\n",
       "      <td>3.5000</td>\n",
       "      <td>False</td>\n",
       "      <td>False</td>\n",
       "      <td>False</td>\n",
       "      <td>False</td>\n",
       "      <td>False</td>\n",
       "      <td>False</td>\n",
       "      <td>True</td>\n",
       "      <td>0.9659</td>\n",
       "      <td>261-231</td>\n",
       "    </tr>\n",
       "    <tr>\n",
       "      <th>1661924</th>\n",
       "      <td>0.4500</td>\n",
       "      <td>151</td>\n",
       "      <td>151</td>\n",
       "      <td>3.8500</td>\n",
       "      <td>0.0000</td>\n",
       "      <td>False</td>\n",
       "      <td>False</td>\n",
       "      <td>True</td>\n",
       "      <td>False</td>\n",
       "      <td>False</td>\n",
       "      <td>False</td>\n",
       "      <td>False</td>\n",
       "      <td>-0.8660</td>\n",
       "      <td>151-151</td>\n",
       "    </tr>\n",
       "    <tr>\n",
       "      <th>2468878</th>\n",
       "      <td>3.0000</td>\n",
       "      <td>148</td>\n",
       "      <td>164</td>\n",
       "      <td>22.3333</td>\n",
       "      <td>2.5000</td>\n",
       "      <td>False</td>\n",
       "      <td>False</td>\n",
       "      <td>True</td>\n",
       "      <td>False</td>\n",
       "      <td>False</td>\n",
       "      <td>False</td>\n",
       "      <td>False</td>\n",
       "      <td>1.0000</td>\n",
       "      <td>148-164</td>\n",
       "    </tr>\n",
       "    <tr>\n",
       "      <th>1004844</th>\n",
       "      <td>1.1200</td>\n",
       "      <td>166</td>\n",
       "      <td>41</td>\n",
       "      <td>6.8500</td>\n",
       "      <td>0.0000</td>\n",
       "      <td>False</td>\n",
       "      <td>True</td>\n",
       "      <td>False</td>\n",
       "      <td>False</td>\n",
       "      <td>False</td>\n",
       "      <td>False</td>\n",
       "      <td>False</td>\n",
       "      <td>-0.7071</td>\n",
       "      <td>166-41</td>\n",
       "    </tr>\n",
       "    <tr>\n",
       "      <th>2024440</th>\n",
       "      <td>2.6000</td>\n",
       "      <td>233</td>\n",
       "      <td>145</td>\n",
       "      <td>12.4833</td>\n",
       "      <td>2.5000</td>\n",
       "      <td>False</td>\n",
       "      <td>False</td>\n",
       "      <td>False</td>\n",
       "      <td>False</td>\n",
       "      <td>False</td>\n",
       "      <td>True</td>\n",
       "      <td>False</td>\n",
       "      <td>-0.5000</td>\n",
       "      <td>233-145</td>\n",
       "    </tr>\n",
       "    <tr>\n",
       "      <th>2993602</th>\n",
       "      <td>1.2000</td>\n",
       "      <td>161</td>\n",
       "      <td>230</td>\n",
       "      <td>18.3667</td>\n",
       "      <td>2.5000</td>\n",
       "      <td>True</td>\n",
       "      <td>False</td>\n",
       "      <td>False</td>\n",
       "      <td>False</td>\n",
       "      <td>False</td>\n",
       "      <td>False</td>\n",
       "      <td>False</td>\n",
       "      <td>-0.5000</td>\n",
       "      <td>161-230</td>\n",
       "    </tr>\n",
       "  </tbody>\n",
       "</table>\n",
       "</div>"
      ],
      "text/plain": [
       "         trip_distance  PULocationID  DOLocationID  trip_duration_in_mins  \\\n",
       "1655633         3.5900            88           144                18.6333   \n",
       "2191516         0.9600           164            90                 6.0167   \n",
       "3316794         2.8800           161           263                16.5500   \n",
       "2339570         0.8200           230           161                 8.9500   \n",
       "2208087         0.5600           261           231                 3.1333   \n",
       "1661924         0.4500           151           151                 3.8500   \n",
       "2468878         3.0000           148           164                22.3333   \n",
       "1004844         1.1200           166            41                 6.8500   \n",
       "2024440         2.6000           233           145                12.4833   \n",
       "2993602         1.2000           161           230                18.3667   \n",
       "\n",
       "         congestion_index  weekday_Friday  weekday_Monday  weekday_Saturday  \\\n",
       "1655633            2.5000           False           False              True   \n",
       "2191516            3.5000           False           False             False   \n",
       "3316794            2.5000           False           False             False   \n",
       "2339570            3.5000           False           False             False   \n",
       "2208087            3.5000           False           False             False   \n",
       "1661924            0.0000           False           False              True   \n",
       "2468878            2.5000           False           False              True   \n",
       "1004844            0.0000           False            True             False   \n",
       "2024440            2.5000           False           False             False   \n",
       "2993602            2.5000            True           False             False   \n",
       "\n",
       "         weekday_Sunday  weekday_Thursday  weekday_Tuesday  weekday_Wednesday  \\\n",
       "1655633           False             False            False              False   \n",
       "2191516           False             False            False               True   \n",
       "3316794           False             False             True              False   \n",
       "2339570           False              True            False              False   \n",
       "2208087           False             False            False               True   \n",
       "1661924           False             False            False              False   \n",
       "2468878           False             False            False              False   \n",
       "1004844           False             False            False              False   \n",
       "2024440           False             False             True              False   \n",
       "2993602           False             False            False              False   \n",
       "\n",
       "         hour_cos    route  \n",
       "1655633   -0.9659   88-144  \n",
       "2191516    0.7071   164-90  \n",
       "3316794   -0.0000  161-263  \n",
       "2339570    0.9659  230-161  \n",
       "2208087    0.9659  261-231  \n",
       "1661924   -0.8660  151-151  \n",
       "2468878    1.0000  148-164  \n",
       "1004844   -0.7071   166-41  \n",
       "2024440   -0.5000  233-145  \n",
       "2993602   -0.5000  161-230  "
      ]
     },
     "execution_count": 597,
     "metadata": {},
     "output_type": "execute_result"
    }
   ],
   "source": [
    "yellow_taxi_df['route'] = yellow_taxi_df[\"PULocationID\"].astype(str) + \"-\" + yellow_taxi_df[\"DOLocationID\"].astype(str)\n",
    "\n",
    "yellow_taxi_df.sample(10)"
   ]
  },
  {
   "cell_type": "code",
   "execution_count": 598,
   "metadata": {},
   "outputs": [],
   "source": [
    "from sklearn.preprocessing import LabelEncoder\n",
    "\n",
    "# Encode route categories into numerical IDs\n",
    "label_encoder = LabelEncoder()\n",
    "yellow_taxi_df['route_encoded'] = label_encoder.fit_transform(yellow_taxi_df['route'])\n",
    "\n",
    "# Drop the original 'route' column if not needed\n",
    "yellow_taxi_df = yellow_taxi_df.drop(columns=['route'], inplace=True)"
   ]
  },
  {
   "cell_type": "code",
   "execution_count": 599,
   "metadata": {},
   "outputs": [],
   "source": [
    "# Define independent (X) and dependent (Y) variables\n",
    "X = yellow_taxi_df.drop(columns=['trip_duration_in_mins'], axis=1)  # Features\n",
    "Y = yellow_taxi_df['trip_duration_in_mins']  # Target variable\n",
    "\n",
    "# Sample 1000 rows from X and Y\n",
    "X_sample = X.sample(n=3000, random_state=42)  # Randomly sample 3000 rows\n",
    "Y_sample = Y.loc[X_sample.index]  # Match Y to the sampled X rows\n",
    "\n",
    "# Convert to NumPy arrays\n",
    "X_sample = X_sample.values\n",
    "Y_sample = Y_sample.values.reshape(-1, 1)  # Ensure Y is 2D\n",
    "\n",
    "# Scale the features of the sampled data\n",
    "scaler = StandardScaler()\n",
    "X_sample = scaler.fit_transform(X_sample)"
   ]
  },
  {
   "cell_type": "code",
   "execution_count": 600,
   "metadata": {},
   "outputs": [
    {
     "name": "stderr",
     "output_type": "stream",
     "text": [
      "/Users/ikmalbasirun/Library/Python/3.9/lib/python/site-packages/keras/src/layers/core/dense.py:87: UserWarning: Do not pass an `input_shape`/`input_dim` argument to a layer. When using Sequential models, prefer using an `Input(shape)` object as the first layer in the model instead.\n",
      "  super().__init__(activity_regularizer=activity_regularizer, **kwargs)\n"
     ]
    },
    {
     "name": "stdout",
     "output_type": "stream",
     "text": [
      "Fold MAE: 4.4420\n",
      "Fold MAE: 3.9245\n",
      "Fold MAE: 4.0058\n",
      "Fold MAE: 3.7192\n",
      "Fold MAE: 4.0112\n",
      "Fold MAE: 3.9262\n",
      "Fold MAE: 3.7779\n",
      "Fold MAE: 4.0162\n",
      "Fold MAE: 3.9621\n",
      "Fold MAE: 3.8084\n",
      "Mean MAE: 3.9593 (+/- 0.1889)\n"
     ]
    }
   ],
   "source": [
    "# Define 10-fold cross-validation\n",
    "kfold = KFold(n_splits=10, shuffle=True, random_state=42)\n",
    "\n",
    "cvscores = []  # Store mean absolute error (MAE) scores\n",
    "\n",
    "for train_index, test_index in kfold.split(X_sample, Y_sample):\n",
    "    # Split data into training and validation sets for this fold\n",
    "    X_train, X_val = X_sample[train_index], X_sample[test_index]\n",
    "    Y_train_fold, Y_val = Y_sample[train_index], Y_sample[test_index]\n",
    "\n",
    "    # Build the model\n",
    "    model = Sequential([\n",
    "        Dense(64, activation='relu', input_dim=X.shape[1]),  # Input layer\n",
    "        Dropout(0.2),\n",
    "        Dense(32, activation='relu'),\n",
    "        Dropout(0.2),\n",
    "        Dense(16, activation='relu'),\n",
    "        Dense(1, activation='linear')  # Output layer for regression\n",
    "    ])\n",
    "\n",
    "    # Compile the model\n",
    "    model.compile(optimizer='adam', loss='mse', metrics=['mae'])\n",
    "\n",
    "    # Train the model with validation data\n",
    "    history = model.fit(X_train, Y_train_fold, epochs=100, batch_size=32, \n",
    "                        validation_data=(X_val, Y_val), verbose=0)\n",
    "\n",
    "    # Evaluate the model\n",
    "    loss, mae = model.evaluate(X_val, Y_val, verbose=0)\n",
    "\n",
    "    # Print and store MAE\n",
    "    print(f\"Fold MAE: {mae:.4f}\")\n",
    "    cvscores.append(mae)\n",
    "\n",
    "# Print overall performance\n",
    "print(\"Mean MAE: %.4f (+/- %.4f)\" % (np.mean(cvscores), np.std(cvscores)))"
   ]
  },
  {
   "cell_type": "code",
   "execution_count": 601,
   "metadata": {},
   "outputs": [
    {
     "data": {
      "image/png": "[encoded data removed]",
      "text/plain": [
       "<Figure size 640x480 with 1 Axes>"
      ]
     },
     "metadata": {},
     "output_type": "display_data"
    },
    {
     "data": {
      "image/png": "[encoded data removed]",
      "text/plain": [
       "<Figure size 640x480 with 1 Axes>"
      ]
     },
     "metadata": {},
     "output_type": "display_data"
    }
   ],
   "source": [
    "# Plot training & validation MAE\n",
    "plt.plot(history.history['mae'], label='Train MAE')\n",
    "plt.plot(history.history['val_mae'], label='Validation MAE')\n",
    "plt.xlabel('Epochs')\n",
    "plt.ylabel('MAE')\n",
    "plt.legend()\n",
    "plt.show()\n",
    "\n",
    "# Plot training & validation loss\n",
    "plt.plot(history.history['loss'], label='Train Loss (MSE)')\n",
    "plt.plot(history.history['val_loss'], label='Validation Loss (MSE)')\n",
    "plt.xlabel('Epochs')\n",
    "plt.ylabel('Loss (MSE)')\n",
    "plt.legend()\n",
    "plt.show()"
   ]
  }
 ],
 "metadata": {
  "kernelspec": {
   "display_name": "Python 3",
   "language": "python",
   "name": "python3"
  },
  "language_info": {
   "codemirror_mode": {
    "name": "ipython",
    "version": 3
   },
   "file_extension": ".py",
   "mimetype": "text/x-python",
   "name": "python",
   "nbconvert_exporter": "python",
   "pygments_lexer": "ipython3",
   "version": "3.9.6"
  }
 },
 "nbformat": 4,
 "nbformat_minor": 2
}
